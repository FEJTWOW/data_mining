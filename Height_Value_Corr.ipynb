{
 "cells": [
  {
   "cell_type": "code",
   "execution_count": 6,
   "id": "d461cb85",
   "metadata": {},
   "outputs": [],
   "source": [
    "import pandas as pd\n",
    "import numpy as np\n",
    "import geopy\n",
    "from geopy.geocoders import Nominatim\n",
    "from geopy.extra.rate_limiter import RateLimiter\n",
    "import matplotlib.pyplot as plt\n",
    "import plotly_express as px\n",
    "import geopandas as gpd"
   ]
  },
  {
   "cell_type": "code",
   "execution_count": null,
   "id": "02437030",
   "metadata": {},
   "outputs": [],
   "source": [
    "df = pd.DataFrame()\n",
    "reader = pd.read_csv(r'/Users/kamil/Documents/data_mining/measurements.csv', low_memory=False, chunksize=10000)\n",
    "for chunk in reader:\n",
    "    chunk.dropna(subset=['Height','Value'], axis=0, inplace=True)\n",
    "    chunk.drop(labels=['Longitude','Latitude','Captured Time','Location Name','Device ID','MD5Sum','Surface','Radiation','Uploaded Time','Loader ID'], axis=1, inplace=True)\n",
    "    chunk = chunk.loc[chunk['Unit'] == 'cpm']\n",
    "    chunk = chunk.drop('Unit', axis=1)\n",
    "    df = pd.concat([df,chunk], ignore_index=True)\n",
    "del reader, chunk"
   ]
  },
  {
   "cell_type": "code",
   "execution_count": null,
   "id": "222c69fc",
   "metadata": {},
   "outputs": [],
   "source": [
    "correlation = df[\"Value\"].corr(df[\"Height\"])\n",
    "correlation"
   ]
  },
  {
   "cell_type": "code",
   "execution_count": null,
   "id": "51be1a71",
   "metadata": {},
   "outputs": [],
   "source": []
  }
 ],
 "metadata": {
  "kernelspec": {
   "display_name": "Python 3 (ipykernel)",
   "language": "python",
   "name": "python3"
  },
  "language_info": {
   "codemirror_mode": {
    "name": "ipython",
    "version": 3
   },
   "file_extension": ".py",
   "mimetype": "text/x-python",
   "name": "python",
   "nbconvert_exporter": "python",
   "pygments_lexer": "ipython3",
   "version": "3.8.12"
  }
 },
 "nbformat": 4,
 "nbformat_minor": 5
}
