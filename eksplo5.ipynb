{
 "cells": [
  {
   "cell_type": "code",
   "execution_count": 2,
   "id": "dae50ab8",
   "metadata": {},
   "outputs": [],
   "source": [
    "import pandas as pd\n",
    "import numpy as np\n",
    "import geopy\n",
    "from geopy.geocoders import Nominatim\n",
    "from geopy.extra.rate_limiter import RateLimiter\n",
    "import matplotlib.pyplot as plt\n",
    "import plotly_express as px\n",
    "#import geopandas as gpd\n",
    "import geopy as gp\n",
    "from geopy.geocoders import GoogleV3"
   ]
  },
  {
   "cell_type": "code",
   "execution_count": 3,
   "id": "bc3a7b19",
   "metadata": {},
   "outputs": [],
   "source": [
    "df = pd.read_csv(r'/Users/kamil/Documents/data_mining/reduced_data.csv')"
   ]
  },
  {
   "cell_type": "code",
   "execution_count": 4,
   "id": "a58e373f",
   "metadata": {},
   "outputs": [],
   "source": [
    "df = df[df.Value > 0]"
   ]
  },
  {
   "cell_type": "code",
   "execution_count": 5,
   "id": "743830e6",
   "metadata": {},
   "outputs": [],
   "source": [
    "df[\"temp\"] = np.nan"
   ]
  },
  {
   "cell_type": "code",
   "execution_count": 6,
   "id": "f93cb005",
   "metadata": {},
   "outputs": [],
   "source": [
    "df_grouped = df.groupby(['Latitude', 'Longitude', 'Height']).agg({'temp':'size', 'Value':'mean'}).rename(columns={'Value':'Value_mean','temp':'number of measurements'}).reset_index()"
   ]
  },
  {
   "cell_type": "code",
   "execution_count": 7,
   "id": "67ce1355",
   "metadata": {},
   "outputs": [
    {
     "data": {
      "text/html": [
       "<div>\n",
       "<style scoped>\n",
       "    .dataframe tbody tr th:only-of-type {\n",
       "        vertical-align: middle;\n",
       "    }\n",
       "\n",
       "    .dataframe tbody tr th {\n",
       "        vertical-align: top;\n",
       "    }\n",
       "\n",
       "    .dataframe thead th {\n",
       "        text-align: right;\n",
       "    }\n",
       "</style>\n",
       "<table border=\"1\" class=\"dataframe\">\n",
       "  <thead>\n",
       "    <tr style=\"text-align: right;\">\n",
       "      <th></th>\n",
       "      <th>Latitude</th>\n",
       "      <th>Longitude</th>\n",
       "      <th>Height</th>\n",
       "      <th>number of measurements</th>\n",
       "      <th>Value_mean</th>\n",
       "    </tr>\n",
       "  </thead>\n",
       "  <tbody>\n",
       "    <tr>\n",
       "      <th>0</th>\n",
       "      <td>-90.000000</td>\n",
       "      <td>37.442836</td>\n",
       "      <td>5.0</td>\n",
       "      <td>2</td>\n",
       "      <td>10.000000</td>\n",
       "    </tr>\n",
       "    <tr>\n",
       "      <th>1</th>\n",
       "      <td>-47.392879</td>\n",
       "      <td>127.472214</td>\n",
       "      <td>173.0</td>\n",
       "      <td>20</td>\n",
       "      <td>25.250000</td>\n",
       "    </tr>\n",
       "    <tr>\n",
       "      <th>2</th>\n",
       "      <td>-36.852563</td>\n",
       "      <td>174.763318</td>\n",
       "      <td>82.0</td>\n",
       "      <td>1</td>\n",
       "      <td>47.000000</td>\n",
       "    </tr>\n",
       "    <tr>\n",
       "      <th>3</th>\n",
       "      <td>-36.852563</td>\n",
       "      <td>174.763340</td>\n",
       "      <td>82.0</td>\n",
       "      <td>1</td>\n",
       "      <td>46.000000</td>\n",
       "    </tr>\n",
       "    <tr>\n",
       "      <th>4</th>\n",
       "      <td>-36.852542</td>\n",
       "      <td>174.763392</td>\n",
       "      <td>81.0</td>\n",
       "      <td>1</td>\n",
       "      <td>49.000000</td>\n",
       "    </tr>\n",
       "    <tr>\n",
       "      <th>...</th>\n",
       "      <td>...</td>\n",
       "      <td>...</td>\n",
       "      <td>...</td>\n",
       "      <td>...</td>\n",
       "      <td>...</td>\n",
       "    </tr>\n",
       "    <tr>\n",
       "      <th>70440</th>\n",
       "      <td>52.395588</td>\n",
       "      <td>4.875916</td>\n",
       "      <td>103.0</td>\n",
       "      <td>14</td>\n",
       "      <td>21.928571</td>\n",
       "    </tr>\n",
       "    <tr>\n",
       "      <th>70441</th>\n",
       "      <td>52.395607</td>\n",
       "      <td>4.874018</td>\n",
       "      <td>-32.0</td>\n",
       "      <td>257</td>\n",
       "      <td>25.599222</td>\n",
       "    </tr>\n",
       "    <tr>\n",
       "      <th>70442</th>\n",
       "      <td>60.202004</td>\n",
       "      <td>24.921344</td>\n",
       "      <td>44.0</td>\n",
       "      <td>1</td>\n",
       "      <td>54.000000</td>\n",
       "    </tr>\n",
       "    <tr>\n",
       "      <th>70443</th>\n",
       "      <td>90.000000</td>\n",
       "      <td>123.456000</td>\n",
       "      <td>123.0</td>\n",
       "      <td>1</td>\n",
       "      <td>123.000000</td>\n",
       "    </tr>\n",
       "    <tr>\n",
       "      <th>70444</th>\n",
       "      <td>90.000000</td>\n",
       "      <td>140.471962</td>\n",
       "      <td>60.0</td>\n",
       "      <td>21647</td>\n",
       "      <td>30.988451</td>\n",
       "    </tr>\n",
       "  </tbody>\n",
       "</table>\n",
       "<p>70445 rows × 5 columns</p>\n",
       "</div>"
      ],
      "text/plain": [
       "        Latitude   Longitude  Height  number of measurements  Value_mean\n",
       "0     -90.000000   37.442836     5.0                       2   10.000000\n",
       "1     -47.392879  127.472214   173.0                      20   25.250000\n",
       "2     -36.852563  174.763318    82.0                       1   47.000000\n",
       "3     -36.852563  174.763340    82.0                       1   46.000000\n",
       "4     -36.852542  174.763392    81.0                       1   49.000000\n",
       "...          ...         ...     ...                     ...         ...\n",
       "70440  52.395588    4.875916   103.0                      14   21.928571\n",
       "70441  52.395607    4.874018   -32.0                     257   25.599222\n",
       "70442  60.202004   24.921344    44.0                       1   54.000000\n",
       "70443  90.000000  123.456000   123.0                       1  123.000000\n",
       "70444  90.000000  140.471962    60.0                   21647   30.988451\n",
       "\n",
       "[70445 rows x 5 columns]"
      ]
     },
     "execution_count": 7,
     "metadata": {},
     "output_type": "execute_result"
    }
   ],
   "source": [
    "df_grouped"
   ]
  },
  {
   "cell_type": "code",
   "execution_count": 8,
   "id": "1cd5be54",
   "metadata": {},
   "outputs": [],
   "source": [
    "df_grouped.sort_values(by = ['Latitude', 'Longitude'], inplace = True)"
   ]
  },
  {
   "cell_type": "code",
   "execution_count": 9,
   "id": "3b281a01",
   "metadata": {},
   "outputs": [
    {
     "data": {
      "text/html": [
       "<div>\n",
       "<style scoped>\n",
       "    .dataframe tbody tr th:only-of-type {\n",
       "        vertical-align: middle;\n",
       "    }\n",
       "\n",
       "    .dataframe tbody tr th {\n",
       "        vertical-align: top;\n",
       "    }\n",
       "\n",
       "    .dataframe thead th {\n",
       "        text-align: right;\n",
       "    }\n",
       "</style>\n",
       "<table border=\"1\" class=\"dataframe\">\n",
       "  <thead>\n",
       "    <tr style=\"text-align: right;\">\n",
       "      <th></th>\n",
       "      <th>Latitude</th>\n",
       "      <th>Longitude</th>\n",
       "      <th>Height</th>\n",
       "      <th>number of measurements</th>\n",
       "      <th>Value_mean</th>\n",
       "    </tr>\n",
       "  </thead>\n",
       "  <tbody>\n",
       "    <tr>\n",
       "      <th>0</th>\n",
       "      <td>-90.000000</td>\n",
       "      <td>37.442836</td>\n",
       "      <td>5.0</td>\n",
       "      <td>2</td>\n",
       "      <td>10.000000</td>\n",
       "    </tr>\n",
       "    <tr>\n",
       "      <th>1</th>\n",
       "      <td>-47.392879</td>\n",
       "      <td>127.472214</td>\n",
       "      <td>173.0</td>\n",
       "      <td>20</td>\n",
       "      <td>25.250000</td>\n",
       "    </tr>\n",
       "    <tr>\n",
       "      <th>2</th>\n",
       "      <td>-36.852563</td>\n",
       "      <td>174.763318</td>\n",
       "      <td>82.0</td>\n",
       "      <td>1</td>\n",
       "      <td>47.000000</td>\n",
       "    </tr>\n",
       "    <tr>\n",
       "      <th>3</th>\n",
       "      <td>-36.852563</td>\n",
       "      <td>174.763340</td>\n",
       "      <td>82.0</td>\n",
       "      <td>1</td>\n",
       "      <td>46.000000</td>\n",
       "    </tr>\n",
       "    <tr>\n",
       "      <th>4</th>\n",
       "      <td>-36.852542</td>\n",
       "      <td>174.763392</td>\n",
       "      <td>81.0</td>\n",
       "      <td>1</td>\n",
       "      <td>49.000000</td>\n",
       "    </tr>\n",
       "    <tr>\n",
       "      <th>...</th>\n",
       "      <td>...</td>\n",
       "      <td>...</td>\n",
       "      <td>...</td>\n",
       "      <td>...</td>\n",
       "      <td>...</td>\n",
       "    </tr>\n",
       "    <tr>\n",
       "      <th>70440</th>\n",
       "      <td>52.395588</td>\n",
       "      <td>4.875916</td>\n",
       "      <td>103.0</td>\n",
       "      <td>14</td>\n",
       "      <td>21.928571</td>\n",
       "    </tr>\n",
       "    <tr>\n",
       "      <th>70441</th>\n",
       "      <td>52.395607</td>\n",
       "      <td>4.874018</td>\n",
       "      <td>-32.0</td>\n",
       "      <td>257</td>\n",
       "      <td>25.599222</td>\n",
       "    </tr>\n",
       "    <tr>\n",
       "      <th>70442</th>\n",
       "      <td>60.202004</td>\n",
       "      <td>24.921344</td>\n",
       "      <td>44.0</td>\n",
       "      <td>1</td>\n",
       "      <td>54.000000</td>\n",
       "    </tr>\n",
       "    <tr>\n",
       "      <th>70443</th>\n",
       "      <td>90.000000</td>\n",
       "      <td>123.456000</td>\n",
       "      <td>123.0</td>\n",
       "      <td>1</td>\n",
       "      <td>123.000000</td>\n",
       "    </tr>\n",
       "    <tr>\n",
       "      <th>70444</th>\n",
       "      <td>90.000000</td>\n",
       "      <td>140.471962</td>\n",
       "      <td>60.0</td>\n",
       "      <td>21647</td>\n",
       "      <td>30.988451</td>\n",
       "    </tr>\n",
       "  </tbody>\n",
       "</table>\n",
       "<p>70445 rows × 5 columns</p>\n",
       "</div>"
      ],
      "text/plain": [
       "        Latitude   Longitude  Height  number of measurements  Value_mean\n",
       "0     -90.000000   37.442836     5.0                       2   10.000000\n",
       "1     -47.392879  127.472214   173.0                      20   25.250000\n",
       "2     -36.852563  174.763318    82.0                       1   47.000000\n",
       "3     -36.852563  174.763340    82.0                       1   46.000000\n",
       "4     -36.852542  174.763392    81.0                       1   49.000000\n",
       "...          ...         ...     ...                     ...         ...\n",
       "70440  52.395588    4.875916   103.0                      14   21.928571\n",
       "70441  52.395607    4.874018   -32.0                     257   25.599222\n",
       "70442  60.202004   24.921344    44.0                       1   54.000000\n",
       "70443  90.000000  123.456000   123.0                       1  123.000000\n",
       "70444  90.000000  140.471962    60.0                   21647   30.988451\n",
       "\n",
       "[70445 rows x 5 columns]"
      ]
     },
     "execution_count": 9,
     "metadata": {},
     "output_type": "execute_result"
    }
   ],
   "source": [
    "df_grouped"
   ]
  },
  {
   "cell_type": "code",
   "execution_count": 10,
   "id": "43e2e8ba",
   "metadata": {},
   "outputs": [],
   "source": [
    "def get_country(row):\n",
    "    locator = Nominatim(user_agent=\"ekspllo3\", timeout=10)\n",
    "    pos = str(row['Latitude']) + ', ' + str(row['Longitude'])\n",
    "    location = locator.reverse(pos, timeout = 10, language=\"en\")\n",
    "    try:\n",
    "      return location.raw['address']['country']\n",
    "    except:\n",
    "      return \"no data\" "
   ]
  },
  {
   "cell_type": "code",
   "execution_count": 11,
   "id": "662bff98",
   "metadata": {},
   "outputs": [
    {
     "name": "stderr",
     "output_type": "stream",
     "text": [
      "100%|█████████████████████████████████████████████████████████████████████████████████████████████████████████████████████████████████████████████████████████████████████████| 70445/70445 [00:51<00:00, 1376.41it/s]\n"
     ]
    }
   ],
   "source": [
    "import math\n",
    "import statistics\n",
    "from tqdm import tqdm\n",
    "data = []\n",
    "\n",
    "Latitude, Longitude = 0, 0\n",
    "countries = []\n",
    "curr_country = \"no data\"\n",
    "\n",
    "#df__dict = df.to_dict('records')\n",
    "df_grouped_dict = df_grouped.to_dict('records')\n",
    "\n",
    "for row in tqdm(df_grouped_dict):\n",
    "    if Latitude == 0 and Longitude == 0:\n",
    "      Latitude, Longitude = row['Latitude'], row['Longitude']\n",
    "      curr_country = get_country(row)\n",
    "      countries.append(curr_country)\n",
    "    else:\n",
    "        distance = math.sqrt((Latitude - row['Latitude'])**2 + (Longitude- row['Longitude'])**2) \n",
    "        if distance < 0.5:  #wtedy są blisko i można potraktować je z pewnością jako ten sam kraj (czyli przyłączamy wartości średnie do)\n",
    "            countries.append(curr_country)\n",
    "        else:\n",
    "\n",
    "            Latitude, Longitude = row['Latitude'], row['Longitude']\n",
    "            curr_country = get_country(row)\n",
    "            countries.append(curr_country)\n",
    "\n",
    "cdf = df_grouped\n",
    "cdf['Country'] = countries\n"
   ]
  },
  {
   "cell_type": "code",
   "execution_count": 12,
   "id": "189138b4",
   "metadata": {},
   "outputs": [
    {
     "name": "stdout",
     "output_type": "stream",
     "text": [
      "        Latitude   Longitude  Height  number of measurements  Value_mean  \\\n",
      "0     -90.000000   37.442836     5.0                       2   10.000000   \n",
      "1     -47.392879  127.472214   173.0                      20   25.250000   \n",
      "2     -36.852563  174.763318    82.0                       1   47.000000   \n",
      "3     -36.852563  174.763340    82.0                       1   46.000000   \n",
      "4     -36.852542  174.763392    81.0                       1   49.000000   \n",
      "...          ...         ...     ...                     ...         ...   \n",
      "70440  52.395588    4.875916   103.0                      14   21.928571   \n",
      "70441  52.395607    4.874018   -32.0                     257   25.599222   \n",
      "70442  60.202004   24.921344    44.0                       1   54.000000   \n",
      "70443  90.000000  123.456000   123.0                       1  123.000000   \n",
      "70444  90.000000  140.471962    60.0                   21647   30.988451   \n",
      "\n",
      "           Country  \n",
      "0          no data  \n",
      "1          no data  \n",
      "2      New Zealand  \n",
      "3      New Zealand  \n",
      "4      New Zealand  \n",
      "...            ...  \n",
      "70440  Netherlands  \n",
      "70441  Netherlands  \n",
      "70442      Finland  \n",
      "70443      no data  \n",
      "70444      no data  \n",
      "\n",
      "[70445 rows x 6 columns]\n"
     ]
    }
   ],
   "source": [
    "print(cdf)"
   ]
  },
  {
   "cell_type": "code",
   "execution_count": 13,
   "id": "b9d01e8f",
   "metadata": {},
   "outputs": [],
   "source": [
    "cdf.sort_values(by = ['Country'], inplace = True)"
   ]
  },
  {
   "cell_type": "code",
   "execution_count": 14,
   "id": "e8b584de",
   "metadata": {},
   "outputs": [
    {
     "data": {
      "text/plain": [
       "United States    61223\n",
       "Japan             8167\n",
       "South Korea        452\n",
       "New Zealand        247\n",
       "China              159\n",
       "Netherlands        121\n",
       "Slovenia            54\n",
       "no data              9\n",
       "Canada               4\n",
       "Germany              4\n",
       "Italy                2\n",
       "Finland              1\n",
       "Somalia              1\n",
       "Spain                1\n",
       "Name: Country, dtype: int64"
      ]
     },
     "execution_count": 14,
     "metadata": {},
     "output_type": "execute_result"
    }
   ],
   "source": [
    "cdf['Country'].value_counts()"
   ]
  },
  {
   "cell_type": "code",
   "execution_count": 15,
   "id": "1e48cec1",
   "metadata": {},
   "outputs": [],
   "source": [
    "countries = cdf['Country'].unique()"
   ]
  },
  {
   "cell_type": "code",
   "execution_count": 16,
   "id": "feadf3e4",
   "metadata": {},
   "outputs": [
    {
     "data": {
      "text/plain": [
       "array(['Canada', 'China', 'Finland', 'Germany', 'Italy', 'Japan',\n",
       "       'Netherlands', 'New Zealand', 'Slovenia', 'Somalia', 'South Korea',\n",
       "       'Spain', 'United States', 'no data'], dtype=object)"
      ]
     },
     "execution_count": 16,
     "metadata": {},
     "output_type": "execute_result"
    }
   ],
   "source": [
    "countries"
   ]
  },
  {
   "cell_type": "code",
   "execution_count": 17,
   "id": "f005cd04",
   "metadata": {},
   "outputs": [
    {
     "data": {
      "text/html": [
       "<div>\n",
       "<style scoped>\n",
       "    .dataframe tbody tr th:only-of-type {\n",
       "        vertical-align: middle;\n",
       "    }\n",
       "\n",
       "    .dataframe tbody tr th {\n",
       "        vertical-align: top;\n",
       "    }\n",
       "\n",
       "    .dataframe thead th {\n",
       "        text-align: right;\n",
       "    }\n",
       "</style>\n",
       "<table border=\"1\" class=\"dataframe\">\n",
       "  <thead>\n",
       "    <tr style=\"text-align: right;\">\n",
       "      <th></th>\n",
       "      <th>Latitude</th>\n",
       "      <th>Longitude</th>\n",
       "      <th>Height</th>\n",
       "      <th>number of measurements</th>\n",
       "      <th>Value_mean</th>\n",
       "    </tr>\n",
       "  </thead>\n",
       "  <tbody>\n",
       "    <tr>\n",
       "      <th>count</th>\n",
       "      <td>70445.000000</td>\n",
       "      <td>70445.000000</td>\n",
       "      <td>70445.000000</td>\n",
       "      <td>7.044500e+04</td>\n",
       "      <td>70445.000000</td>\n",
       "    </tr>\n",
       "    <tr>\n",
       "      <th>mean</th>\n",
       "      <td>35.748421</td>\n",
       "      <td>-82.930392</td>\n",
       "      <td>104.024998</td>\n",
       "      <td>5.082449e+02</td>\n",
       "      <td>57.047007</td>\n",
       "    </tr>\n",
       "    <tr>\n",
       "      <th>std</th>\n",
       "      <td>5.202132</td>\n",
       "      <td>86.442267</td>\n",
       "      <td>117.307459</td>\n",
       "      <td>1.847460e+04</td>\n",
       "      <td>249.638167</td>\n",
       "    </tr>\n",
       "    <tr>\n",
       "      <th>min</th>\n",
       "      <td>-90.000000</td>\n",
       "      <td>-122.851453</td>\n",
       "      <td>-1809.000000</td>\n",
       "      <td>1.000000e+00</td>\n",
       "      <td>1.000000</td>\n",
       "    </tr>\n",
       "    <tr>\n",
       "      <th>25%</th>\n",
       "      <td>34.122169</td>\n",
       "      <td>-122.128059</td>\n",
       "      <td>20.000000</td>\n",
       "      <td>2.000000e+00</td>\n",
       "      <td>24.750000</td>\n",
       "    </tr>\n",
       "    <tr>\n",
       "      <th>50%</th>\n",
       "      <td>34.176193</td>\n",
       "      <td>-118.261475</td>\n",
       "      <td>104.000000</td>\n",
       "      <td>4.000000e+00</td>\n",
       "      <td>30.250000</td>\n",
       "    </tr>\n",
       "    <tr>\n",
       "      <th>75%</th>\n",
       "      <td>37.738979</td>\n",
       "      <td>-118.093719</td>\n",
       "      <td>162.000000</td>\n",
       "      <td>3.600000e+01</td>\n",
       "      <td>34.050000</td>\n",
       "    </tr>\n",
       "    <tr>\n",
       "      <th>max</th>\n",
       "      <td>90.000000</td>\n",
       "      <td>174.765607</td>\n",
       "      <td>6228.000000</td>\n",
       "      <td>1.257088e+06</td>\n",
       "      <td>33475.310345</td>\n",
       "    </tr>\n",
       "  </tbody>\n",
       "</table>\n",
       "</div>"
      ],
      "text/plain": [
       "           Latitude     Longitude        Height  number of measurements  \\\n",
       "count  70445.000000  70445.000000  70445.000000            7.044500e+04   \n",
       "mean      35.748421    -82.930392    104.024998            5.082449e+02   \n",
       "std        5.202132     86.442267    117.307459            1.847460e+04   \n",
       "min      -90.000000   -122.851453  -1809.000000            1.000000e+00   \n",
       "25%       34.122169   -122.128059     20.000000            2.000000e+00   \n",
       "50%       34.176193   -118.261475    104.000000            4.000000e+00   \n",
       "75%       37.738979   -118.093719    162.000000            3.600000e+01   \n",
       "max       90.000000    174.765607   6228.000000            1.257088e+06   \n",
       "\n",
       "         Value_mean  \n",
       "count  70445.000000  \n",
       "mean      57.047007  \n",
       "std      249.638167  \n",
       "min        1.000000  \n",
       "25%       24.750000  \n",
       "50%       30.250000  \n",
       "75%       34.050000  \n",
       "max    33475.310345  "
      ]
     },
     "execution_count": 17,
     "metadata": {},
     "output_type": "execute_result"
    }
   ],
   "source": [
    "cdf.describe()"
   ]
  },
  {
   "cell_type": "code",
   "execution_count": 18,
   "id": "6e32f64a",
   "metadata": {},
   "outputs": [],
   "source": [
    "def get_info(df):\n",
    "  print(f\"Total number of measurements : {df['number of measurements'].sum()}\")\n",
    "  print(f\"Min Latitude : {df['Latitude'].min()} | Max Latitude : {df['Latitude'].max()}\")\n",
    "  print(f\"Min Longitude : {df['Longitude'].min()} | Max Longitude : {df['Longitude'].max()}\")\n",
    "  print(f\"Min Height : {df['Height'].min()} | Max Height : {df['Height'].max()}\")\n",
    "  print(f\"Mean value of radiation : {df['Value_mean'].mean()}\")\n",
    "  print(f\"Max value of radiation : {df['Value_mean'].max()}\")"
   ]
  },
  {
   "cell_type": "code",
   "execution_count": 19,
   "id": "2e29ff54",
   "metadata": {},
   "outputs": [
    {
     "name": "stdout",
     "output_type": "stream",
     "text": [
      "Canada:\n",
      "\n",
      "Total number of measurements : 4\n",
      "Min Latitude : 43.3902971572416 | Max Latitude : 43.3920435590073\n",
      "Min Longitude : -79.8252136094009 | Max Longitude : -79.8239368779098\n",
      "Min Height : 2.0 | Max Height : 2.0\n",
      "Mean value of radiation : 124.5\n",
      "Max value of radiation : 337.0\n",
      "\n",
      "--------------------------------------------------\n",
      "\n",
      "China:\n",
      "\n",
      "Total number of measurements : 31011\n",
      "Min Latitude : 22.284233 | Max Latitude : 22.312658\n",
      "Min Longitude : 114.145004 | Max Longitude : 114.184113\n",
      "Min Height : 2.0 | Max Height : 199.0\n",
      "Mean value of radiation : 71.66703198524368\n",
      "Max value of radiation : 89.65\n",
      "\n",
      "--------------------------------------------------\n",
      "\n",
      "Finland:\n",
      "\n",
      "Total number of measurements : 1\n",
      "Min Latitude : 60.2020037715231 | Max Latitude : 60.2020037715231\n",
      "Min Longitude : 24.9213437877441 | Max Longitude : 24.9213437877441\n",
      "Min Height : 44.0 | Max Height : 44.0\n",
      "Mean value of radiation : 54.0\n",
      "Max value of radiation : 54.0\n",
      "\n",
      "--------------------------------------------------\n",
      "\n",
      "Germany:\n",
      "\n",
      "Total number of measurements : 18715\n",
      "Min Latitude : 49.0307169456565 | Max Latitude : 51.029021154476\n",
      "Min Longitude : 7.107926 | Max Longitude : 13.7069702237427\n",
      "Min Height : 69.0 | Max Height : 120.0\n",
      "Mean value of radiation : 19.375298478206634\n",
      "Max value of radiation : 31.16786057949321\n",
      "\n",
      "--------------------------------------------------\n",
      "\n",
      "Italy:\n",
      "\n",
      "Total number of measurements : 128\n",
      "Min Latitude : 45.766235 | Max Latitude : 45.773048\n",
      "Min Longitude : 13.599538 | Max Longitude : 13.634098\n",
      "Min Height : 3.0 | Max Height : 15.0\n",
      "Mean value of radiation : 25.099206349206348\n",
      "Max value of radiation : 26.6984126984127\n",
      "\n",
      "--------------------------------------------------\n",
      "\n",
      "Japan:\n",
      "\n",
      "Total number of measurements : 22771922\n",
      "Min Latitude : 31.833193 | Max Latitude : 37.9300884269919\n",
      "Min Longitude : 130.17952 | Max Longitude : 141.036057\n",
      "Min Height : -472.0 | Max Height : 1596.0\n",
      "Mean value of radiation : 271.28430917521086\n",
      "Max value of radiation : 33475.31034482759\n",
      "\n",
      "--------------------------------------------------\n",
      "\n",
      "Netherlands:\n",
      "\n",
      "Total number of measurements : 69824\n",
      "Min Latitude : 52.137932 | Max Latitude : 52.395607\n",
      "Min Longitude : 4.51082 | Max Longitude : 4.988073\n",
      "Min Height : -50.0 | Max Height : 103.0\n",
      "Mean value of radiation : 25.806709697377507\n",
      "Max value of radiation : 30.823529411764707\n",
      "\n",
      "--------------------------------------------------\n",
      "\n",
      "New Zealand:\n",
      "\n",
      "Total number of measurements : 265\n",
      "Min Latitude : -36.8525633 | Max Latitude : -36.85136\n",
      "Min Longitude : 174.7614417 | Max Longitude : 174.7656067\n",
      "Min Height : -13.0 | Max Height : 279.0\n",
      "Mean value of radiation : 32.620670265407114\n",
      "Max value of radiation : 49.0\n",
      "\n",
      "--------------------------------------------------\n",
      "\n",
      "Slovenia:\n",
      "\n",
      "Total number of measurements : 25499\n",
      "Min Latitude : 46.553688 | Max Latitude : 46.565235\n",
      "Min Longitude : 15.63499 | Max Longitude : 15.658566\n",
      "Min Height : 106.0 | Max Height : 323.0\n",
      "Mean value of radiation : 28.102194114198273\n",
      "Max value of radiation : 43.61434977578475\n",
      "\n",
      "--------------------------------------------------\n",
      "\n",
      "Somalia:\n",
      "\n",
      "Total number of measurements : 255757\n",
      "Min Latitude : 1.80934 | Max Latitude : 1.80934\n",
      "Min Longitude : 41.2351 | Max Longitude : 41.2351\n",
      "Min Height : 66.0 | Max Height : 66.0\n",
      "Mean value of radiation : 107.52049015276219\n",
      "Max value of radiation : 107.52049015276219\n",
      "\n",
      "--------------------------------------------------\n",
      "\n",
      "South Korea:\n",
      "\n",
      "Total number of measurements : 192193\n",
      "Min Latitude : 36.634544 | Max Latitude : 37.609081\n",
      "Min Longitude : 126.919708 | Max Longitude : 127.451172\n",
      "Min Height : -863.0 | Max Height : 1349.0\n",
      "Mean value of radiation : 32.77893805329367\n",
      "Max value of radiation : 43.53658536585366\n",
      "\n",
      "--------------------------------------------------\n",
      "\n",
      "Spain:\n",
      "\n",
      "Total number of measurements : 2\n",
      "Min Latitude : 41.42395 | Max Latitude : 41.42395\n",
      "Min Longitude : 2.188897 | Max Longitude : 2.188897\n",
      "Min Height : 98.0 | Max Height : 98.0\n",
      "Mean value of radiation : 40.5\n",
      "Max value of radiation : 40.5\n",
      "\n",
      "--------------------------------------------------\n",
      "\n",
      "United States:\n",
      "\n",
      "Total number of measurements : 12407769\n",
      "Min Latitude : 33.336685 | Max Latitude : 47.768326\n",
      "Min Longitude : -122.851453 | Max Longitude : -70.776268\n",
      "Min Height : -1809.0 | Max Height : 6228.0\n",
      "Mean value of radiation : 28.797309115652705\n",
      "Max value of radiation : 32466.743878550442\n",
      "\n",
      "--------------------------------------------------\n",
      "\n",
      "no data:\n",
      "\n",
      "Total number of measurements : 30221\n",
      "Min Latitude : -90.0 | Max Latitude : 90.0\n",
      "Min Longitude : -102.0 | Max Longitude : 140.471962\n",
      "Min Height : 1.0 | Max Height : 173.0\n",
      "Mean value of radiation : 33.720051718029886\n",
      "Max value of radiation : 123.0\n",
      "\n",
      "--------------------------------------------------\n",
      "\n"
     ]
    }
   ],
   "source": [
    "for country in countries:\n",
    "  print(country + \":\" + '\\n')\n",
    "  get_info(cdf[cdf.Country == country])\n",
    "  print('\\n' + \"-\" *50 + '\\n')"
   ]
  },
  {
   "cell_type": "code",
   "execution_count": 23,
   "id": "e1ee923d",
   "metadata": {},
   "outputs": [],
   "source": [
    "cdf = cdf.reset_index(drop=True)"
   ]
  },
  {
   "cell_type": "code",
   "execution_count": 31,
   "id": "d76e0bcb",
   "metadata": {},
   "outputs": [
    {
     "data": {
      "text/html": [
       "<div>\n",
       "<style scoped>\n",
       "    .dataframe tbody tr th:only-of-type {\n",
       "        vertical-align: middle;\n",
       "    }\n",
       "\n",
       "    .dataframe tbody tr th {\n",
       "        vertical-align: top;\n",
       "    }\n",
       "\n",
       "    .dataframe thead th {\n",
       "        text-align: right;\n",
       "    }\n",
       "</style>\n",
       "<table border=\"1\" class=\"dataframe\">\n",
       "  <thead>\n",
       "    <tr style=\"text-align: right;\">\n",
       "      <th></th>\n",
       "      <th>Latitude</th>\n",
       "      <th>Longitude</th>\n",
       "      <th>Height</th>\n",
       "      <th>number of measurements</th>\n",
       "      <th>Value_mean</th>\n",
       "      <th>Country</th>\n",
       "    </tr>\n",
       "  </thead>\n",
       "  <tbody>\n",
       "    <tr>\n",
       "      <th>0</th>\n",
       "      <td>43.392044</td>\n",
       "      <td>-79.824387</td>\n",
       "      <td>2.0</td>\n",
       "      <td>1</td>\n",
       "      <td>52.000000</td>\n",
       "      <td>Canada</td>\n",
       "    </tr>\n",
       "    <tr>\n",
       "      <th>1</th>\n",
       "      <td>43.391997</td>\n",
       "      <td>-79.825214</td>\n",
       "      <td>2.0</td>\n",
       "      <td>1</td>\n",
       "      <td>71.000000</td>\n",
       "      <td>Canada</td>\n",
       "    </tr>\n",
       "    <tr>\n",
       "      <th>2</th>\n",
       "      <td>43.391092</td>\n",
       "      <td>-79.823964</td>\n",
       "      <td>2.0</td>\n",
       "      <td>1</td>\n",
       "      <td>337.000000</td>\n",
       "      <td>Canada</td>\n",
       "    </tr>\n",
       "    <tr>\n",
       "      <th>3</th>\n",
       "      <td>43.390297</td>\n",
       "      <td>-79.823937</td>\n",
       "      <td>2.0</td>\n",
       "      <td>1</td>\n",
       "      <td>38.000000</td>\n",
       "      <td>Canada</td>\n",
       "    </tr>\n",
       "    <tr>\n",
       "      <th>4</th>\n",
       "      <td>22.285723</td>\n",
       "      <td>114.146713</td>\n",
       "      <td>151.0</td>\n",
       "      <td>8</td>\n",
       "      <td>70.000000</td>\n",
       "      <td>China</td>\n",
       "    </tr>\n",
       "    <tr>\n",
       "      <th>...</th>\n",
       "      <td>...</td>\n",
       "      <td>...</td>\n",
       "      <td>...</td>\n",
       "      <td>...</td>\n",
       "      <td>...</td>\n",
       "      <td>...</td>\n",
       "    </tr>\n",
       "    <tr>\n",
       "      <th>70440</th>\n",
       "      <td>0.000000</td>\n",
       "      <td>0.000000</td>\n",
       "      <td>1.0</td>\n",
       "      <td>1</td>\n",
       "      <td>1.000000</td>\n",
       "      <td>no data</td>\n",
       "    </tr>\n",
       "    <tr>\n",
       "      <th>70441</th>\n",
       "      <td>0.000000</td>\n",
       "      <td>-102.000000</td>\n",
       "      <td>96.0</td>\n",
       "      <td>8511</td>\n",
       "      <td>27.688168</td>\n",
       "      <td>no data</td>\n",
       "    </tr>\n",
       "    <tr>\n",
       "      <th>70442</th>\n",
       "      <td>-47.392879</td>\n",
       "      <td>127.472214</td>\n",
       "      <td>173.0</td>\n",
       "      <td>20</td>\n",
       "      <td>25.250000</td>\n",
       "      <td>no data</td>\n",
       "    </tr>\n",
       "    <tr>\n",
       "      <th>70443</th>\n",
       "      <td>90.000000</td>\n",
       "      <td>123.456000</td>\n",
       "      <td>123.0</td>\n",
       "      <td>1</td>\n",
       "      <td>123.000000</td>\n",
       "      <td>no data</td>\n",
       "    </tr>\n",
       "    <tr>\n",
       "      <th>70444</th>\n",
       "      <td>90.000000</td>\n",
       "      <td>140.471962</td>\n",
       "      <td>60.0</td>\n",
       "      <td>21647</td>\n",
       "      <td>30.988451</td>\n",
       "      <td>no data</td>\n",
       "    </tr>\n",
       "  </tbody>\n",
       "</table>\n",
       "<p>70445 rows × 6 columns</p>\n",
       "</div>"
      ],
      "text/plain": [
       "        Latitude   Longitude  Height  number of measurements  Value_mean  \\\n",
       "0      43.392044  -79.824387     2.0                       1   52.000000   \n",
       "1      43.391997  -79.825214     2.0                       1   71.000000   \n",
       "2      43.391092  -79.823964     2.0                       1  337.000000   \n",
       "3      43.390297  -79.823937     2.0                       1   38.000000   \n",
       "4      22.285723  114.146713   151.0                       8   70.000000   \n",
       "...          ...         ...     ...                     ...         ...   \n",
       "70440   0.000000    0.000000     1.0                       1    1.000000   \n",
       "70441   0.000000 -102.000000    96.0                    8511   27.688168   \n",
       "70442 -47.392879  127.472214   173.0                      20   25.250000   \n",
       "70443  90.000000  123.456000   123.0                       1  123.000000   \n",
       "70444  90.000000  140.471962    60.0                   21647   30.988451   \n",
       "\n",
       "       Country  \n",
       "0       Canada  \n",
       "1       Canada  \n",
       "2       Canada  \n",
       "3       Canada  \n",
       "4        China  \n",
       "...        ...  \n",
       "70440  no data  \n",
       "70441  no data  \n",
       "70442  no data  \n",
       "70443  no data  \n",
       "70444  no data  \n",
       "\n",
       "[70445 rows x 6 columns]"
      ]
     },
     "execution_count": 31,
     "metadata": {},
     "output_type": "execute_result"
    }
   ],
   "source": [
    "cdf"
   ]
  },
  {
   "cell_type": "code",
   "execution_count": 95,
   "id": "8d648161",
   "metadata": {},
   "outputs": [
    {
     "data": {
      "text/html": [
       "<div>\n",
       "<style scoped>\n",
       "    .dataframe tbody tr th:only-of-type {\n",
       "        vertical-align: middle;\n",
       "    }\n",
       "\n",
       "    .dataframe tbody tr th {\n",
       "        vertical-align: top;\n",
       "    }\n",
       "\n",
       "    .dataframe thead th {\n",
       "        text-align: right;\n",
       "    }\n",
       "</style>\n",
       "<table border=\"1\" class=\"dataframe\">\n",
       "  <thead>\n",
       "    <tr style=\"text-align: right;\">\n",
       "      <th></th>\n",
       "      <th>Country</th>\n",
       "      <th>Latitude</th>\n",
       "      <th>Longitude</th>\n",
       "      <th>Height</th>\n",
       "      <th>number of measurements</th>\n",
       "      <th>Value_mean</th>\n",
       "      <th>size</th>\n",
       "    </tr>\n",
       "  </thead>\n",
       "  <tbody>\n",
       "    <tr>\n",
       "      <th>0</th>\n",
       "      <td>Canada</td>\n",
       "      <td>43.392044</td>\n",
       "      <td>-79.823937</td>\n",
       "      <td>2.0</td>\n",
       "      <td>1</td>\n",
       "      <td>337.000000</td>\n",
       "      <td>5.731773</td>\n",
       "    </tr>\n",
       "    <tr>\n",
       "      <th>1</th>\n",
       "      <td>China</td>\n",
       "      <td>22.312658</td>\n",
       "      <td>114.184113</td>\n",
       "      <td>199.0</td>\n",
       "      <td>2042</td>\n",
       "      <td>89.650000</td>\n",
       "      <td>3.852699</td>\n",
       "    </tr>\n",
       "    <tr>\n",
       "      <th>2</th>\n",
       "      <td>Finland</td>\n",
       "      <td>60.202004</td>\n",
       "      <td>24.921344</td>\n",
       "      <td>44.0</td>\n",
       "      <td>1</td>\n",
       "      <td>54.000000</td>\n",
       "      <td>3.309163</td>\n",
       "    </tr>\n",
       "    <tr>\n",
       "      <th>3</th>\n",
       "      <td>Germany</td>\n",
       "      <td>51.029021</td>\n",
       "      <td>13.706970</td>\n",
       "      <td>120.0</td>\n",
       "      <td>18706</td>\n",
       "      <td>31.167861</td>\n",
       "      <td>2.806158</td>\n",
       "    </tr>\n",
       "    <tr>\n",
       "      <th>4</th>\n",
       "      <td>Italy</td>\n",
       "      <td>45.773048</td>\n",
       "      <td>13.634098</td>\n",
       "      <td>15.0</td>\n",
       "      <td>126</td>\n",
       "      <td>26.698413</td>\n",
       "      <td>2.678833</td>\n",
       "    </tr>\n",
       "    <tr>\n",
       "      <th>5</th>\n",
       "      <td>Japan</td>\n",
       "      <td>37.930088</td>\n",
       "      <td>141.036057</td>\n",
       "      <td>1596.0</td>\n",
       "      <td>1257088</td>\n",
       "      <td>33475.310345</td>\n",
       "      <td>22.772850</td>\n",
       "    </tr>\n",
       "    <tr>\n",
       "      <th>6</th>\n",
       "      <td>Netherlands</td>\n",
       "      <td>52.395607</td>\n",
       "      <td>4.988073</td>\n",
       "      <td>103.0</td>\n",
       "      <td>20311</td>\n",
       "      <td>30.823529</td>\n",
       "      <td>2.796821</td>\n",
       "    </tr>\n",
       "    <tr>\n",
       "      <th>7</th>\n",
       "      <td>New Zealand</td>\n",
       "      <td>-36.851360</td>\n",
       "      <td>174.765607</td>\n",
       "      <td>279.0</td>\n",
       "      <td>9</td>\n",
       "      <td>49.000000</td>\n",
       "      <td>3.214096</td>\n",
       "    </tr>\n",
       "    <tr>\n",
       "      <th>8</th>\n",
       "      <td>Slovenia</td>\n",
       "      <td>46.565235</td>\n",
       "      <td>15.658566</td>\n",
       "      <td>323.0</td>\n",
       "      <td>13074</td>\n",
       "      <td>43.614350</td>\n",
       "      <td>3.103765</td>\n",
       "    </tr>\n",
       "    <tr>\n",
       "      <th>9</th>\n",
       "      <td>Somalia</td>\n",
       "      <td>1.809340</td>\n",
       "      <td>41.235100</td>\n",
       "      <td>66.0</td>\n",
       "      <td>255757</td>\n",
       "      <td>107.520490</td>\n",
       "      <td>4.068622</td>\n",
       "    </tr>\n",
       "    <tr>\n",
       "      <th>10</th>\n",
       "      <td>South Korea</td>\n",
       "      <td>37.609081</td>\n",
       "      <td>127.451172</td>\n",
       "      <td>1349.0</td>\n",
       "      <td>2083</td>\n",
       "      <td>43.536585</td>\n",
       "      <td>3.102104</td>\n",
       "    </tr>\n",
       "    <tr>\n",
       "      <th>11</th>\n",
       "      <td>Spain</td>\n",
       "      <td>41.423950</td>\n",
       "      <td>2.188897</td>\n",
       "      <td>98.0</td>\n",
       "      <td>2</td>\n",
       "      <td>40.500000</td>\n",
       "      <td>3.035544</td>\n",
       "    </tr>\n",
       "    <tr>\n",
       "      <th>12</th>\n",
       "      <td>United States</td>\n",
       "      <td>47.768326</td>\n",
       "      <td>-70.776268</td>\n",
       "      <td>6228.0</td>\n",
       "      <td>1098435</td>\n",
       "      <td>32466.743879</td>\n",
       "      <td>22.564807</td>\n",
       "    </tr>\n",
       "    <tr>\n",
       "      <th>13</th>\n",
       "      <td>no data</td>\n",
       "      <td>90.000000</td>\n",
       "      <td>140.471962</td>\n",
       "      <td>173.0</td>\n",
       "      <td>21647</td>\n",
       "      <td>123.000000</td>\n",
       "      <td>4.236152</td>\n",
       "    </tr>\n",
       "  </tbody>\n",
       "</table>\n",
       "</div>"
      ],
      "text/plain": [
       "          Country   Latitude   Longitude  Height  number of measurements  \\\n",
       "0          Canada  43.392044  -79.823937     2.0                       1   \n",
       "1           China  22.312658  114.184113   199.0                    2042   \n",
       "2         Finland  60.202004   24.921344    44.0                       1   \n",
       "3         Germany  51.029021   13.706970   120.0                   18706   \n",
       "4           Italy  45.773048   13.634098    15.0                     126   \n",
       "5           Japan  37.930088  141.036057  1596.0                 1257088   \n",
       "6     Netherlands  52.395607    4.988073   103.0                   20311   \n",
       "7     New Zealand -36.851360  174.765607   279.0                       9   \n",
       "8        Slovenia  46.565235   15.658566   323.0                   13074   \n",
       "9         Somalia   1.809340   41.235100    66.0                  255757   \n",
       "10    South Korea  37.609081  127.451172  1349.0                    2083   \n",
       "11          Spain  41.423950    2.188897    98.0                       2   \n",
       "12  United States  47.768326  -70.776268  6228.0                 1098435   \n",
       "13        no data  90.000000  140.471962   173.0                   21647   \n",
       "\n",
       "      Value_mean       size  \n",
       "0     337.000000   5.731773  \n",
       "1      89.650000   3.852699  \n",
       "2      54.000000   3.309163  \n",
       "3      31.167861   2.806158  \n",
       "4      26.698413   2.678833  \n",
       "5   33475.310345  22.772850  \n",
       "6      30.823529   2.796821  \n",
       "7      49.000000   3.214096  \n",
       "8      43.614350   3.103765  \n",
       "9     107.520490   4.068622  \n",
       "10     43.536585   3.102104  \n",
       "11     40.500000   3.035544  \n",
       "12  32466.743879  22.564807  \n",
       "13    123.000000   4.236152  "
      ]
     },
     "execution_count": 95,
     "metadata": {},
     "output_type": "execute_result"
    }
   ],
   "source": [
    "formated_cdf_group = cdf.groupby(['Country'])\n",
    "formated_cdf = formated_cdf_group.max()\n",
    "formated_cdf = formated_cdf.reset_index()\n",
    "formated_cdf['size'] = formated_cdf[\"Value_mean\"].pow(0.3)\n",
    "formated_cdf"
   ]
  },
  {
   "cell_type": "code",
   "execution_count": 92,
   "id": "f45b0e2a",
   "metadata": {},
   "outputs": [
    {
     "data": {
      "application/vnd.plotly.v1+json": {
       "config": {
        "plotlyServerURL": "https://plot.ly"
       },
       "data": [
        {
         "customdata": [
          [
           337
          ],
          [
           89.65
          ],
          [
           54
          ],
          [
           31.16786057949321
          ],
          [
           26.6984126984127
          ],
          [
           33475.31034482759
          ],
          [
           30.823529411764707
          ],
          [
           49
          ],
          [
           43.61434977578475
          ],
          [
           107.52049015276219
          ],
          [
           43.53658536585366
          ],
          [
           40.5
          ],
          [
           32466.743878550442
          ],
          [
           123
          ]
         ],
         "geo": "geo",
         "hovertemplate": "<b>%{hovertext}</b><br><br>size=%{marker.size}<br>Latitude=%{lat}<br>Longitude=%{lon}<br>Value_mean=%{marker.color}<extra></extra>",
         "hovertext": [
          "Canada",
          "China",
          "Finland",
          "Germany",
          "Italy",
          "Japan",
          "Netherlands",
          "New Zealand",
          "Slovenia",
          "Somalia",
          "South Korea",
          "Spain",
          "United States",
          "no data"
         ],
         "lat": [
          43.3920435590073,
          22.312658,
          60.2020037715231,
          51.029021154476,
          45.773048,
          37.9300884269919,
          52.395607,
          -36.85136,
          46.565235,
          1.80934,
          37.609081,
          41.42395,
          47.768326,
          90
         ],
         "legendgroup": "",
         "locationmode": "country names",
         "lon": [
          -79.8239368779098,
          114.184113,
          24.9213437877441,
          13.7069702237427,
          13.634098,
          141.036057,
          4.988073,
          174.7656067,
          15.658566,
          41.2351,
          127.451172,
          2.188897,
          -70.776268,
          140.471962
         ],
         "marker": {
          "color": [
           337,
           89.65,
           54,
           31.16786057949321,
           26.6984126984127,
           33475.31034482759,
           30.823529411764707,
           49,
           43.61434977578475,
           107.52049015276219,
           43.53658536585366,
           40.5,
           32466.743878550442,
           123
          ],
          "coloraxis": "coloraxis",
          "size": [
           5.731772840410531,
           3.85269907076499,
           3.3091627572662095,
           2.8061578548380575,
           2.6788329526268337,
           22.7728498976208,
           2.796821243455789,
           3.2140958497160383,
           3.1037649228995328,
           4.068622258180824,
           3.1021036814249805,
           3.0355438227534264,
           22.564806854936798,
           4.236151985630706
          ],
          "sizemode": "area",
          "sizeref": 0.056932124744052,
          "symbol": "circle"
         },
         "mode": "markers",
         "name": "",
         "showlegend": false,
         "type": "scattergeo"
        }
       ],
       "layout": {
        "coloraxis": {
         "cmax": 33477.31034482759,
         "cmin": 0,
         "colorbar": {
          "title": {
           "text": "Value_mean"
          }
         },
         "colorscale": [
          [
           0,
           "#0d0887"
          ],
          [
           0.1111111111111111,
           "#46039f"
          ],
          [
           0.2222222222222222,
           "#7201a8"
          ],
          [
           0.3333333333333333,
           "#9c179e"
          ],
          [
           0.4444444444444444,
           "#bd3786"
          ],
          [
           0.5555555555555556,
           "#d8576b"
          ],
          [
           0.6666666666666666,
           "#ed7953"
          ],
          [
           0.7777777777777778,
           "#fb9f3a"
          ],
          [
           0.8888888888888888,
           "#fdca26"
          ],
          [
           1,
           "#f0f921"
          ]
         ]
        },
        "geo": {
         "center": {},
         "domain": {
          "x": [
           0,
           1
          ],
          "y": [
           0,
           1
          ]
         },
         "projection": {
          "type": "natural earth"
         }
        },
        "legend": {
         "itemsizing": "constant",
         "tracegroupgap": 0
        },
        "margin": {
         "t": 60
        },
        "template": {
         "data": {
          "bar": [
           {
            "error_x": {
             "color": "#2a3f5f"
            },
            "error_y": {
             "color": "#2a3f5f"
            },
            "marker": {
             "line": {
              "color": "#E5ECF6",
              "width": 0.5
             },
             "pattern": {
              "fillmode": "overlay",
              "size": 10,
              "solidity": 0.2
             }
            },
            "type": "bar"
           }
          ],
          "barpolar": [
           {
            "marker": {
             "line": {
              "color": "#E5ECF6",
              "width": 0.5
             },
             "pattern": {
              "fillmode": "overlay",
              "size": 10,
              "solidity": 0.2
             }
            },
            "type": "barpolar"
           }
          ],
          "carpet": [
           {
            "aaxis": {
             "endlinecolor": "#2a3f5f",
             "gridcolor": "white",
             "linecolor": "white",
             "minorgridcolor": "white",
             "startlinecolor": "#2a3f5f"
            },
            "baxis": {
             "endlinecolor": "#2a3f5f",
             "gridcolor": "white",
             "linecolor": "white",
             "minorgridcolor": "white",
             "startlinecolor": "#2a3f5f"
            },
            "type": "carpet"
           }
          ],
          "choropleth": [
           {
            "colorbar": {
             "outlinewidth": 0,
             "ticks": ""
            },
            "type": "choropleth"
           }
          ],
          "contour": [
           {
            "colorbar": {
             "outlinewidth": 0,
             "ticks": ""
            },
            "colorscale": [
             [
              0,
              "#0d0887"
             ],
             [
              0.1111111111111111,
              "#46039f"
             ],
             [
              0.2222222222222222,
              "#7201a8"
             ],
             [
              0.3333333333333333,
              "#9c179e"
             ],
             [
              0.4444444444444444,
              "#bd3786"
             ],
             [
              0.5555555555555556,
              "#d8576b"
             ],
             [
              0.6666666666666666,
              "#ed7953"
             ],
             [
              0.7777777777777778,
              "#fb9f3a"
             ],
             [
              0.8888888888888888,
              "#fdca26"
             ],
             [
              1,
              "#f0f921"
             ]
            ],
            "type": "contour"
           }
          ],
          "contourcarpet": [
           {
            "colorbar": {
             "outlinewidth": 0,
             "ticks": ""
            },
            "type": "contourcarpet"
           }
          ],
          "heatmap": [
           {
            "colorbar": {
             "outlinewidth": 0,
             "ticks": ""
            },
            "colorscale": [
             [
              0,
              "#0d0887"
             ],
             [
              0.1111111111111111,
              "#46039f"
             ],
             [
              0.2222222222222222,
              "#7201a8"
             ],
             [
              0.3333333333333333,
              "#9c179e"
             ],
             [
              0.4444444444444444,
              "#bd3786"
             ],
             [
              0.5555555555555556,
              "#d8576b"
             ],
             [
              0.6666666666666666,
              "#ed7953"
             ],
             [
              0.7777777777777778,
              "#fb9f3a"
             ],
             [
              0.8888888888888888,
              "#fdca26"
             ],
             [
              1,
              "#f0f921"
             ]
            ],
            "type": "heatmap"
           }
          ],
          "heatmapgl": [
           {
            "colorbar": {
             "outlinewidth": 0,
             "ticks": ""
            },
            "colorscale": [
             [
              0,
              "#0d0887"
             ],
             [
              0.1111111111111111,
              "#46039f"
             ],
             [
              0.2222222222222222,
              "#7201a8"
             ],
             [
              0.3333333333333333,
              "#9c179e"
             ],
             [
              0.4444444444444444,
              "#bd3786"
             ],
             [
              0.5555555555555556,
              "#d8576b"
             ],
             [
              0.6666666666666666,
              "#ed7953"
             ],
             [
              0.7777777777777778,
              "#fb9f3a"
             ],
             [
              0.8888888888888888,
              "#fdca26"
             ],
             [
              1,
              "#f0f921"
             ]
            ],
            "type": "heatmapgl"
           }
          ],
          "histogram": [
           {
            "marker": {
             "pattern": {
              "fillmode": "overlay",
              "size": 10,
              "solidity": 0.2
             }
            },
            "type": "histogram"
           }
          ],
          "histogram2d": [
           {
            "colorbar": {
             "outlinewidth": 0,
             "ticks": ""
            },
            "colorscale": [
             [
              0,
              "#0d0887"
             ],
             [
              0.1111111111111111,
              "#46039f"
             ],
             [
              0.2222222222222222,
              "#7201a8"
             ],
             [
              0.3333333333333333,
              "#9c179e"
             ],
             [
              0.4444444444444444,
              "#bd3786"
             ],
             [
              0.5555555555555556,
              "#d8576b"
             ],
             [
              0.6666666666666666,
              "#ed7953"
             ],
             [
              0.7777777777777778,
              "#fb9f3a"
             ],
             [
              0.8888888888888888,
              "#fdca26"
             ],
             [
              1,
              "#f0f921"
             ]
            ],
            "type": "histogram2d"
           }
          ],
          "histogram2dcontour": [
           {
            "colorbar": {
             "outlinewidth": 0,
             "ticks": ""
            },
            "colorscale": [
             [
              0,
              "#0d0887"
             ],
             [
              0.1111111111111111,
              "#46039f"
             ],
             [
              0.2222222222222222,
              "#7201a8"
             ],
             [
              0.3333333333333333,
              "#9c179e"
             ],
             [
              0.4444444444444444,
              "#bd3786"
             ],
             [
              0.5555555555555556,
              "#d8576b"
             ],
             [
              0.6666666666666666,
              "#ed7953"
             ],
             [
              0.7777777777777778,
              "#fb9f3a"
             ],
             [
              0.8888888888888888,
              "#fdca26"
             ],
             [
              1,
              "#f0f921"
             ]
            ],
            "type": "histogram2dcontour"
           }
          ],
          "mesh3d": [
           {
            "colorbar": {
             "outlinewidth": 0,
             "ticks": ""
            },
            "type": "mesh3d"
           }
          ],
          "parcoords": [
           {
            "line": {
             "colorbar": {
              "outlinewidth": 0,
              "ticks": ""
             }
            },
            "type": "parcoords"
           }
          ],
          "pie": [
           {
            "automargin": true,
            "type": "pie"
           }
          ],
          "scatter": [
           {
            "marker": {
             "colorbar": {
              "outlinewidth": 0,
              "ticks": ""
             }
            },
            "type": "scatter"
           }
          ],
          "scatter3d": [
           {
            "line": {
             "colorbar": {
              "outlinewidth": 0,
              "ticks": ""
             }
            },
            "marker": {
             "colorbar": {
              "outlinewidth": 0,
              "ticks": ""
             }
            },
            "type": "scatter3d"
           }
          ],
          "scattercarpet": [
           {
            "marker": {
             "colorbar": {
              "outlinewidth": 0,
              "ticks": ""
             }
            },
            "type": "scattercarpet"
           }
          ],
          "scattergeo": [
           {
            "marker": {
             "colorbar": {
              "outlinewidth": 0,
              "ticks": ""
             }
            },
            "type": "scattergeo"
           }
          ],
          "scattergl": [
           {
            "marker": {
             "colorbar": {
              "outlinewidth": 0,
              "ticks": ""
             }
            },
            "type": "scattergl"
           }
          ],
          "scattermapbox": [
           {
            "marker": {
             "colorbar": {
              "outlinewidth": 0,
              "ticks": ""
             }
            },
            "type": "scattermapbox"
           }
          ],
          "scatterpolar": [
           {
            "marker": {
             "colorbar": {
              "outlinewidth": 0,
              "ticks": ""
             }
            },
            "type": "scatterpolar"
           }
          ],
          "scatterpolargl": [
           {
            "marker": {
             "colorbar": {
              "outlinewidth": 0,
              "ticks": ""
             }
            },
            "type": "scatterpolargl"
           }
          ],
          "scatterternary": [
           {
            "marker": {
             "colorbar": {
              "outlinewidth": 0,
              "ticks": ""
             }
            },
            "type": "scatterternary"
           }
          ],
          "surface": [
           {
            "colorbar": {
             "outlinewidth": 0,
             "ticks": ""
            },
            "colorscale": [
             [
              0,
              "#0d0887"
             ],
             [
              0.1111111111111111,
              "#46039f"
             ],
             [
              0.2222222222222222,
              "#7201a8"
             ],
             [
              0.3333333333333333,
              "#9c179e"
             ],
             [
              0.4444444444444444,
              "#bd3786"
             ],
             [
              0.5555555555555556,
              "#d8576b"
             ],
             [
              0.6666666666666666,
              "#ed7953"
             ],
             [
              0.7777777777777778,
              "#fb9f3a"
             ],
             [
              0.8888888888888888,
              "#fdca26"
             ],
             [
              1,
              "#f0f921"
             ]
            ],
            "type": "surface"
           }
          ],
          "table": [
           {
            "cells": {
             "fill": {
              "color": "#EBF0F8"
             },
             "line": {
              "color": "white"
             }
            },
            "header": {
             "fill": {
              "color": "#C8D4E3"
             },
             "line": {
              "color": "white"
             }
            },
            "type": "table"
           }
          ]
         },
         "layout": {
          "annotationdefaults": {
           "arrowcolor": "#2a3f5f",
           "arrowhead": 0,
           "arrowwidth": 1
          },
          "autotypenumbers": "strict",
          "coloraxis": {
           "colorbar": {
            "outlinewidth": 0,
            "ticks": ""
           }
          },
          "colorscale": {
           "diverging": [
            [
             0,
             "#8e0152"
            ],
            [
             0.1,
             "#c51b7d"
            ],
            [
             0.2,
             "#de77ae"
            ],
            [
             0.3,
             "#f1b6da"
            ],
            [
             0.4,
             "#fde0ef"
            ],
            [
             0.5,
             "#f7f7f7"
            ],
            [
             0.6,
             "#e6f5d0"
            ],
            [
             0.7,
             "#b8e186"
            ],
            [
             0.8,
             "#7fbc41"
            ],
            [
             0.9,
             "#4d9221"
            ],
            [
             1,
             "#276419"
            ]
           ],
           "sequential": [
            [
             0,
             "#0d0887"
            ],
            [
             0.1111111111111111,
             "#46039f"
            ],
            [
             0.2222222222222222,
             "#7201a8"
            ],
            [
             0.3333333333333333,
             "#9c179e"
            ],
            [
             0.4444444444444444,
             "#bd3786"
            ],
            [
             0.5555555555555556,
             "#d8576b"
            ],
            [
             0.6666666666666666,
             "#ed7953"
            ],
            [
             0.7777777777777778,
             "#fb9f3a"
            ],
            [
             0.8888888888888888,
             "#fdca26"
            ],
            [
             1,
             "#f0f921"
            ]
           ],
           "sequentialminus": [
            [
             0,
             "#0d0887"
            ],
            [
             0.1111111111111111,
             "#46039f"
            ],
            [
             0.2222222222222222,
             "#7201a8"
            ],
            [
             0.3333333333333333,
             "#9c179e"
            ],
            [
             0.4444444444444444,
             "#bd3786"
            ],
            [
             0.5555555555555556,
             "#d8576b"
            ],
            [
             0.6666666666666666,
             "#ed7953"
            ],
            [
             0.7777777777777778,
             "#fb9f3a"
            ],
            [
             0.8888888888888888,
             "#fdca26"
            ],
            [
             1,
             "#f0f921"
            ]
           ]
          },
          "colorway": [
           "#636efa",
           "#EF553B",
           "#00cc96",
           "#ab63fa",
           "#FFA15A",
           "#19d3f3",
           "#FF6692",
           "#B6E880",
           "#FF97FF",
           "#FECB52"
          ],
          "font": {
           "color": "#2a3f5f"
          },
          "geo": {
           "bgcolor": "white",
           "lakecolor": "white",
           "landcolor": "#E5ECF6",
           "showlakes": true,
           "showland": true,
           "subunitcolor": "white"
          },
          "hoverlabel": {
           "align": "left"
          },
          "hovermode": "closest",
          "mapbox": {
           "style": "light"
          },
          "paper_bgcolor": "white",
          "plot_bgcolor": "#E5ECF6",
          "polar": {
           "angularaxis": {
            "gridcolor": "white",
            "linecolor": "white",
            "ticks": ""
           },
           "bgcolor": "#E5ECF6",
           "radialaxis": {
            "gridcolor": "white",
            "linecolor": "white",
            "ticks": ""
           }
          },
          "scene": {
           "xaxis": {
            "backgroundcolor": "#E5ECF6",
            "gridcolor": "white",
            "gridwidth": 2,
            "linecolor": "white",
            "showbackground": true,
            "ticks": "",
            "zerolinecolor": "white"
           },
           "yaxis": {
            "backgroundcolor": "#E5ECF6",
            "gridcolor": "white",
            "gridwidth": 2,
            "linecolor": "white",
            "showbackground": true,
            "ticks": "",
            "zerolinecolor": "white"
           },
           "zaxis": {
            "backgroundcolor": "#E5ECF6",
            "gridcolor": "white",
            "gridwidth": 2,
            "linecolor": "white",
            "showbackground": true,
            "ticks": "",
            "zerolinecolor": "white"
           }
          },
          "shapedefaults": {
           "line": {
            "color": "#2a3f5f"
           }
          },
          "ternary": {
           "aaxis": {
            "gridcolor": "white",
            "linecolor": "white",
            "ticks": ""
           },
           "baxis": {
            "gridcolor": "white",
            "linecolor": "white",
            "ticks": ""
           },
           "bgcolor": "#E5ECF6",
           "caxis": {
            "gridcolor": "white",
            "linecolor": "white",
            "ticks": ""
           }
          },
          "title": {
           "x": 0.05
          },
          "xaxis": {
           "automargin": true,
           "gridcolor": "white",
           "linecolor": "white",
           "ticks": "",
           "title": {
            "standoff": 15
           },
           "zerolinecolor": "white",
           "zerolinewidth": 2
          },
          "yaxis": {
           "automargin": true,
           "gridcolor": "white",
           "linecolor": "white",
           "ticks": "",
           "title": {
            "standoff": 15
           },
           "zerolinecolor": "white",
           "zerolinewidth": 2
          }
         }
        }
       }
      },
      "text/html": [
       "<div>                            <div id=\"cd088ba3-af02-4c89-b35b-cd94484b3d67\" class=\"plotly-graph-div\" style=\"height:525px; width:100%;\"></div>            <script type=\"text/javascript\">                require([\"plotly\"], function(Plotly) {                    window.PLOTLYENV=window.PLOTLYENV || {};                                    if (document.getElementById(\"cd088ba3-af02-4c89-b35b-cd94484b3d67\")) {                    Plotly.newPlot(                        \"cd088ba3-af02-4c89-b35b-cd94484b3d67\",                        [{\"customdata\":[[337.0],[89.65],[54.0],[31.16786057949321],[26.6984126984127],[33475.31034482759],[30.823529411764707],[49.0],[43.61434977578475],[107.52049015276219],[43.53658536585366],[40.5],[32466.743878550442],[123.0]],\"geo\":\"geo\",\"hovertemplate\":\"<b>%{hovertext}</b><br><br>size=%{marker.size}<br>Latitude=%{lat}<br>Longitude=%{lon}<br>Value_mean=%{marker.color}<extra></extra>\",\"hovertext\":[\"Canada\",\"China\",\"Finland\",\"Germany\",\"Italy\",\"Japan\",\"Netherlands\",\"New Zealand\",\"Slovenia\",\"Somalia\",\"South Korea\",\"Spain\",\"United States\",\"no data\"],\"lat\":[43.3920435590073,22.312658,60.2020037715231,51.029021154476,45.773048,37.9300884269919,52.395607,-36.85136,46.565235,1.80934,37.609081,41.42395,47.768326,90.0],\"legendgroup\":\"\",\"locationmode\":\"country names\",\"lon\":[-79.8239368779098,114.184113,24.9213437877441,13.7069702237427,13.634098,141.036057,4.988073,174.7656067,15.658566,41.2351,127.451172,2.188897,-70.776268,140.471962],\"marker\":{\"color\":[337.0,89.65,54.0,31.16786057949321,26.6984126984127,33475.31034482759,30.823529411764707,49.0,43.61434977578475,107.52049015276219,43.53658536585366,40.5,32466.743878550442,123.0],\"coloraxis\":\"coloraxis\",\"size\":[5.731772840410531,3.85269907076499,3.3091627572662095,2.8061578548380575,2.6788329526268337,22.7728498976208,2.796821243455789,3.2140958497160383,3.1037649228995328,4.068622258180824,3.1021036814249805,3.0355438227534264,22.564806854936798,4.236151985630706],\"sizemode\":\"area\",\"sizeref\":0.056932124744052,\"symbol\":\"circle\"},\"mode\":\"markers\",\"name\":\"\",\"showlegend\":false,\"type\":\"scattergeo\"}],                        {\"template\":{\"data\":{\"bar\":[{\"error_x\":{\"color\":\"#2a3f5f\"},\"error_y\":{\"color\":\"#2a3f5f\"},\"marker\":{\"line\":{\"color\":\"#E5ECF6\",\"width\":0.5},\"pattern\":{\"fillmode\":\"overlay\",\"size\":10,\"solidity\":0.2}},\"type\":\"bar\"}],\"barpolar\":[{\"marker\":{\"line\":{\"color\":\"#E5ECF6\",\"width\":0.5},\"pattern\":{\"fillmode\":\"overlay\",\"size\":10,\"solidity\":0.2}},\"type\":\"barpolar\"}],\"carpet\":[{\"aaxis\":{\"endlinecolor\":\"#2a3f5f\",\"gridcolor\":\"white\",\"linecolor\":\"white\",\"minorgridcolor\":\"white\",\"startlinecolor\":\"#2a3f5f\"},\"baxis\":{\"endlinecolor\":\"#2a3f5f\",\"gridcolor\":\"white\",\"linecolor\":\"white\",\"minorgridcolor\":\"white\",\"startlinecolor\":\"#2a3f5f\"},\"type\":\"carpet\"}],\"choropleth\":[{\"colorbar\":{\"outlinewidth\":0,\"ticks\":\"\"},\"type\":\"choropleth\"}],\"contour\":[{\"colorbar\":{\"outlinewidth\":0,\"ticks\":\"\"},\"colorscale\":[[0.0,\"#0d0887\"],[0.1111111111111111,\"#46039f\"],[0.2222222222222222,\"#7201a8\"],[0.3333333333333333,\"#9c179e\"],[0.4444444444444444,\"#bd3786\"],[0.5555555555555556,\"#d8576b\"],[0.6666666666666666,\"#ed7953\"],[0.7777777777777778,\"#fb9f3a\"],[0.8888888888888888,\"#fdca26\"],[1.0,\"#f0f921\"]],\"type\":\"contour\"}],\"contourcarpet\":[{\"colorbar\":{\"outlinewidth\":0,\"ticks\":\"\"},\"type\":\"contourcarpet\"}],\"heatmap\":[{\"colorbar\":{\"outlinewidth\":0,\"ticks\":\"\"},\"colorscale\":[[0.0,\"#0d0887\"],[0.1111111111111111,\"#46039f\"],[0.2222222222222222,\"#7201a8\"],[0.3333333333333333,\"#9c179e\"],[0.4444444444444444,\"#bd3786\"],[0.5555555555555556,\"#d8576b\"],[0.6666666666666666,\"#ed7953\"],[0.7777777777777778,\"#fb9f3a\"],[0.8888888888888888,\"#fdca26\"],[1.0,\"#f0f921\"]],\"type\":\"heatmap\"}],\"heatmapgl\":[{\"colorbar\":{\"outlinewidth\":0,\"ticks\":\"\"},\"colorscale\":[[0.0,\"#0d0887\"],[0.1111111111111111,\"#46039f\"],[0.2222222222222222,\"#7201a8\"],[0.3333333333333333,\"#9c179e\"],[0.4444444444444444,\"#bd3786\"],[0.5555555555555556,\"#d8576b\"],[0.6666666666666666,\"#ed7953\"],[0.7777777777777778,\"#fb9f3a\"],[0.8888888888888888,\"#fdca26\"],[1.0,\"#f0f921\"]],\"type\":\"heatmapgl\"}],\"histogram\":[{\"marker\":{\"pattern\":{\"fillmode\":\"overlay\",\"size\":10,\"solidity\":0.2}},\"type\":\"histogram\"}],\"histogram2d\":[{\"colorbar\":{\"outlinewidth\":0,\"ticks\":\"\"},\"colorscale\":[[0.0,\"#0d0887\"],[0.1111111111111111,\"#46039f\"],[0.2222222222222222,\"#7201a8\"],[0.3333333333333333,\"#9c179e\"],[0.4444444444444444,\"#bd3786\"],[0.5555555555555556,\"#d8576b\"],[0.6666666666666666,\"#ed7953\"],[0.7777777777777778,\"#fb9f3a\"],[0.8888888888888888,\"#fdca26\"],[1.0,\"#f0f921\"]],\"type\":\"histogram2d\"}],\"histogram2dcontour\":[{\"colorbar\":{\"outlinewidth\":0,\"ticks\":\"\"},\"colorscale\":[[0.0,\"#0d0887\"],[0.1111111111111111,\"#46039f\"],[0.2222222222222222,\"#7201a8\"],[0.3333333333333333,\"#9c179e\"],[0.4444444444444444,\"#bd3786\"],[0.5555555555555556,\"#d8576b\"],[0.6666666666666666,\"#ed7953\"],[0.7777777777777778,\"#fb9f3a\"],[0.8888888888888888,\"#fdca26\"],[1.0,\"#f0f921\"]],\"type\":\"histogram2dcontour\"}],\"mesh3d\":[{\"colorbar\":{\"outlinewidth\":0,\"ticks\":\"\"},\"type\":\"mesh3d\"}],\"parcoords\":[{\"line\":{\"colorbar\":{\"outlinewidth\":0,\"ticks\":\"\"}},\"type\":\"parcoords\"}],\"pie\":[{\"automargin\":true,\"type\":\"pie\"}],\"scatter\":[{\"marker\":{\"colorbar\":{\"outlinewidth\":0,\"ticks\":\"\"}},\"type\":\"scatter\"}],\"scatter3d\":[{\"line\":{\"colorbar\":{\"outlinewidth\":0,\"ticks\":\"\"}},\"marker\":{\"colorbar\":{\"outlinewidth\":0,\"ticks\":\"\"}},\"type\":\"scatter3d\"}],\"scattercarpet\":[{\"marker\":{\"colorbar\":{\"outlinewidth\":0,\"ticks\":\"\"}},\"type\":\"scattercarpet\"}],\"scattergeo\":[{\"marker\":{\"colorbar\":{\"outlinewidth\":0,\"ticks\":\"\"}},\"type\":\"scattergeo\"}],\"scattergl\":[{\"marker\":{\"colorbar\":{\"outlinewidth\":0,\"ticks\":\"\"}},\"type\":\"scattergl\"}],\"scattermapbox\":[{\"marker\":{\"colorbar\":{\"outlinewidth\":0,\"ticks\":\"\"}},\"type\":\"scattermapbox\"}],\"scatterpolar\":[{\"marker\":{\"colorbar\":{\"outlinewidth\":0,\"ticks\":\"\"}},\"type\":\"scatterpolar\"}],\"scatterpolargl\":[{\"marker\":{\"colorbar\":{\"outlinewidth\":0,\"ticks\":\"\"}},\"type\":\"scatterpolargl\"}],\"scatterternary\":[{\"marker\":{\"colorbar\":{\"outlinewidth\":0,\"ticks\":\"\"}},\"type\":\"scatterternary\"}],\"surface\":[{\"colorbar\":{\"outlinewidth\":0,\"ticks\":\"\"},\"colorscale\":[[0.0,\"#0d0887\"],[0.1111111111111111,\"#46039f\"],[0.2222222222222222,\"#7201a8\"],[0.3333333333333333,\"#9c179e\"],[0.4444444444444444,\"#bd3786\"],[0.5555555555555556,\"#d8576b\"],[0.6666666666666666,\"#ed7953\"],[0.7777777777777778,\"#fb9f3a\"],[0.8888888888888888,\"#fdca26\"],[1.0,\"#f0f921\"]],\"type\":\"surface\"}],\"table\":[{\"cells\":{\"fill\":{\"color\":\"#EBF0F8\"},\"line\":{\"color\":\"white\"}},\"header\":{\"fill\":{\"color\":\"#C8D4E3\"},\"line\":{\"color\":\"white\"}},\"type\":\"table\"}]},\"layout\":{\"annotationdefaults\":{\"arrowcolor\":\"#2a3f5f\",\"arrowhead\":0,\"arrowwidth\":1},\"autotypenumbers\":\"strict\",\"coloraxis\":{\"colorbar\":{\"outlinewidth\":0,\"ticks\":\"\"}},\"colorscale\":{\"diverging\":[[0,\"#8e0152\"],[0.1,\"#c51b7d\"],[0.2,\"#de77ae\"],[0.3,\"#f1b6da\"],[0.4,\"#fde0ef\"],[0.5,\"#f7f7f7\"],[0.6,\"#e6f5d0\"],[0.7,\"#b8e186\"],[0.8,\"#7fbc41\"],[0.9,\"#4d9221\"],[1,\"#276419\"]],\"sequential\":[[0.0,\"#0d0887\"],[0.1111111111111111,\"#46039f\"],[0.2222222222222222,\"#7201a8\"],[0.3333333333333333,\"#9c179e\"],[0.4444444444444444,\"#bd3786\"],[0.5555555555555556,\"#d8576b\"],[0.6666666666666666,\"#ed7953\"],[0.7777777777777778,\"#fb9f3a\"],[0.8888888888888888,\"#fdca26\"],[1.0,\"#f0f921\"]],\"sequentialminus\":[[0.0,\"#0d0887\"],[0.1111111111111111,\"#46039f\"],[0.2222222222222222,\"#7201a8\"],[0.3333333333333333,\"#9c179e\"],[0.4444444444444444,\"#bd3786\"],[0.5555555555555556,\"#d8576b\"],[0.6666666666666666,\"#ed7953\"],[0.7777777777777778,\"#fb9f3a\"],[0.8888888888888888,\"#fdca26\"],[1.0,\"#f0f921\"]]},\"colorway\":[\"#636efa\",\"#EF553B\",\"#00cc96\",\"#ab63fa\",\"#FFA15A\",\"#19d3f3\",\"#FF6692\",\"#B6E880\",\"#FF97FF\",\"#FECB52\"],\"font\":{\"color\":\"#2a3f5f\"},\"geo\":{\"bgcolor\":\"white\",\"lakecolor\":\"white\",\"landcolor\":\"#E5ECF6\",\"showlakes\":true,\"showland\":true,\"subunitcolor\":\"white\"},\"hoverlabel\":{\"align\":\"left\"},\"hovermode\":\"closest\",\"mapbox\":{\"style\":\"light\"},\"paper_bgcolor\":\"white\",\"plot_bgcolor\":\"#E5ECF6\",\"polar\":{\"angularaxis\":{\"gridcolor\":\"white\",\"linecolor\":\"white\",\"ticks\":\"\"},\"bgcolor\":\"#E5ECF6\",\"radialaxis\":{\"gridcolor\":\"white\",\"linecolor\":\"white\",\"ticks\":\"\"}},\"scene\":{\"xaxis\":{\"backgroundcolor\":\"#E5ECF6\",\"gridcolor\":\"white\",\"gridwidth\":2,\"linecolor\":\"white\",\"showbackground\":true,\"ticks\":\"\",\"zerolinecolor\":\"white\"},\"yaxis\":{\"backgroundcolor\":\"#E5ECF6\",\"gridcolor\":\"white\",\"gridwidth\":2,\"linecolor\":\"white\",\"showbackground\":true,\"ticks\":\"\",\"zerolinecolor\":\"white\"},\"zaxis\":{\"backgroundcolor\":\"#E5ECF6\",\"gridcolor\":\"white\",\"gridwidth\":2,\"linecolor\":\"white\",\"showbackground\":true,\"ticks\":\"\",\"zerolinecolor\":\"white\"}},\"shapedefaults\":{\"line\":{\"color\":\"#2a3f5f\"}},\"ternary\":{\"aaxis\":{\"gridcolor\":\"white\",\"linecolor\":\"white\",\"ticks\":\"\"},\"baxis\":{\"gridcolor\":\"white\",\"linecolor\":\"white\",\"ticks\":\"\"},\"bgcolor\":\"#E5ECF6\",\"caxis\":{\"gridcolor\":\"white\",\"linecolor\":\"white\",\"ticks\":\"\"}},\"title\":{\"x\":0.05},\"xaxis\":{\"automargin\":true,\"gridcolor\":\"white\",\"linecolor\":\"white\",\"ticks\":\"\",\"title\":{\"standoff\":15},\"zerolinecolor\":\"white\",\"zerolinewidth\":2},\"yaxis\":{\"automargin\":true,\"gridcolor\":\"white\",\"linecolor\":\"white\",\"ticks\":\"\",\"title\":{\"standoff\":15},\"zerolinecolor\":\"white\",\"zerolinewidth\":2}}},\"geo\":{\"domain\":{\"x\":[0.0,1.0],\"y\":[0.0,1.0]},\"projection\":{\"type\":\"natural earth\"},\"center\":{}},\"coloraxis\":{\"colorbar\":{\"title\":{\"text\":\"Value_mean\"}},\"colorscale\":[[0.0,\"#0d0887\"],[0.1111111111111111,\"#46039f\"],[0.2222222222222222,\"#7201a8\"],[0.3333333333333333,\"#9c179e\"],[0.4444444444444444,\"#bd3786\"],[0.5555555555555556,\"#d8576b\"],[0.6666666666666666,\"#ed7953\"],[0.7777777777777778,\"#fb9f3a\"],[0.8888888888888888,\"#fdca26\"],[1.0,\"#f0f921\"]],\"cmin\":0,\"cmax\":33477.31034482759},\"legend\":{\"tracegroupgap\":0,\"itemsizing\":\"constant\"},\"margin\":{\"t\":60}},                        {\"responsive\": true}                    ).then(function(){\n",
       "                            \n",
       "var gd = document.getElementById('cd088ba3-af02-4c89-b35b-cd94484b3d67');\n",
       "var x = new MutationObserver(function (mutations, observer) {{\n",
       "        var display = window.getComputedStyle(gd).display;\n",
       "        if (!display || display === 'none') {{\n",
       "            console.log([gd, 'removed!']);\n",
       "            Plotly.purge(gd);\n",
       "            observer.disconnect();\n",
       "        }}\n",
       "}});\n",
       "\n",
       "// Listen for the removal of the full notebook cells\n",
       "var notebookContainer = gd.closest('#notebook-container');\n",
       "if (notebookContainer) {{\n",
       "    x.observe(notebookContainer, {childList: true});\n",
       "}}\n",
       "\n",
       "// Listen for the clearing of the current output cell\n",
       "var outputEl = gd.closest('.output');\n",
       "if (outputEl) {{\n",
       "    x.observe(outputEl, {childList: true});\n",
       "}}\n",
       "\n",
       "                        })                };                });            </script>        </div>"
      ]
     },
     "metadata": {},
     "output_type": "display_data"
    }
   ],
   "source": [
    "fig = px.scatter_geo(formated_cdf,\n",
    "                    lat = formated_cdf['Latitude'],\n",
    "                    lon = formated_cdf['Longitude'],\n",
    "                    locationmode='country names',\n",
    "                    color=\"Value_mean\",\n",
    "                    range_color= [0, max(formated_cdf['Value_mean'])+2],\n",
    "                    hover_name=\"Country\",\n",
    "                    hover_data=[\"Value_mean\"],\n",
    "                    size=\"size\",\n",
    "                    projection=\"natural earth\")\n",
    "fig.show()"
   ]
  },
  {
   "cell_type": "code",
   "execution_count": 96,
   "id": "d3de0951",
   "metadata": {},
   "outputs": [
    {
     "data": {
      "text/html": [
       "<div>\n",
       "<style scoped>\n",
       "    .dataframe tbody tr th:only-of-type {\n",
       "        vertical-align: middle;\n",
       "    }\n",
       "\n",
       "    .dataframe tbody tr th {\n",
       "        vertical-align: top;\n",
       "    }\n",
       "\n",
       "    .dataframe thead th {\n",
       "        text-align: right;\n",
       "    }\n",
       "</style>\n",
       "<table border=\"1\" class=\"dataframe\">\n",
       "  <thead>\n",
       "    <tr style=\"text-align: right;\">\n",
       "      <th></th>\n",
       "      <th>Country</th>\n",
       "      <th>Latitude</th>\n",
       "      <th>Longitude</th>\n",
       "      <th>Height</th>\n",
       "      <th>number of measurements</th>\n",
       "      <th>Value_mean</th>\n",
       "      <th>size</th>\n",
       "    </tr>\n",
       "  </thead>\n",
       "  <tbody>\n",
       "    <tr>\n",
       "      <th>0</th>\n",
       "      <td>Canada</td>\n",
       "      <td>43.391357</td>\n",
       "      <td>-79.824375</td>\n",
       "      <td>2.000000</td>\n",
       "      <td>1.000000</td>\n",
       "      <td>124.500000</td>\n",
       "      <td>4.251584</td>\n",
       "    </tr>\n",
       "    <tr>\n",
       "      <th>1</th>\n",
       "      <td>China</td>\n",
       "      <td>22.285994</td>\n",
       "      <td>114.146685</td>\n",
       "      <td>148.911950</td>\n",
       "      <td>195.037736</td>\n",
       "      <td>71.667032</td>\n",
       "      <td>3.602432</td>\n",
       "    </tr>\n",
       "    <tr>\n",
       "      <th>2</th>\n",
       "      <td>Finland</td>\n",
       "      <td>60.202004</td>\n",
       "      <td>24.921344</td>\n",
       "      <td>44.000000</td>\n",
       "      <td>1.000000</td>\n",
       "      <td>54.000000</td>\n",
       "      <td>3.309163</td>\n",
       "    </tr>\n",
       "    <tr>\n",
       "      <th>3</th>\n",
       "      <td>Germany</td>\n",
       "      <td>50.219822</td>\n",
       "      <td>9.447700</td>\n",
       "      <td>101.000000</td>\n",
       "      <td>4678.750000</td>\n",
       "      <td>19.375298</td>\n",
       "      <td>2.433182</td>\n",
       "    </tr>\n",
       "    <tr>\n",
       "      <th>4</th>\n",
       "      <td>Italy</td>\n",
       "      <td>45.769642</td>\n",
       "      <td>13.616818</td>\n",
       "      <td>9.000000</td>\n",
       "      <td>64.000000</td>\n",
       "      <td>25.099206</td>\n",
       "      <td>2.629650</td>\n",
       "    </tr>\n",
       "    <tr>\n",
       "      <th>5</th>\n",
       "      <td>Japan</td>\n",
       "      <td>36.244732</td>\n",
       "      <td>139.797929</td>\n",
       "      <td>119.386678</td>\n",
       "      <td>2788.284805</td>\n",
       "      <td>271.284309</td>\n",
       "      <td>5.370657</td>\n",
       "    </tr>\n",
       "    <tr>\n",
       "      <th>6</th>\n",
       "      <td>Netherlands</td>\n",
       "      <td>52.276022</td>\n",
       "      <td>4.907893</td>\n",
       "      <td>7.743802</td>\n",
       "      <td>577.057851</td>\n",
       "      <td>25.806710</td>\n",
       "      <td>2.651672</td>\n",
       "    </tr>\n",
       "    <tr>\n",
       "      <th>7</th>\n",
       "      <td>New Zealand</td>\n",
       "      <td>-36.852149</td>\n",
       "      <td>174.763057</td>\n",
       "      <td>151.344130</td>\n",
       "      <td>1.072874</td>\n",
       "      <td>32.620670</td>\n",
       "      <td>2.844775</td>\n",
       "    </tr>\n",
       "    <tr>\n",
       "      <th>8</th>\n",
       "      <td>Slovenia</td>\n",
       "      <td>46.555011</td>\n",
       "      <td>15.636386</td>\n",
       "      <td>256.722222</td>\n",
       "      <td>472.203704</td>\n",
       "      <td>28.102194</td>\n",
       "      <td>2.720333</td>\n",
       "    </tr>\n",
       "    <tr>\n",
       "      <th>9</th>\n",
       "      <td>Somalia</td>\n",
       "      <td>1.809340</td>\n",
       "      <td>41.235100</td>\n",
       "      <td>66.000000</td>\n",
       "      <td>255757.000000</td>\n",
       "      <td>107.520490</td>\n",
       "      <td>4.068622</td>\n",
       "    </tr>\n",
       "    <tr>\n",
       "      <th>10</th>\n",
       "      <td>South Korea</td>\n",
       "      <td>37.322096</td>\n",
       "      <td>127.048194</td>\n",
       "      <td>120.988938</td>\n",
       "      <td>425.205752</td>\n",
       "      <td>32.778938</td>\n",
       "      <td>2.848908</td>\n",
       "    </tr>\n",
       "    <tr>\n",
       "      <th>11</th>\n",
       "      <td>Spain</td>\n",
       "      <td>41.423950</td>\n",
       "      <td>2.188897</td>\n",
       "      <td>98.000000</td>\n",
       "      <td>2.000000</td>\n",
       "      <td>40.500000</td>\n",
       "      <td>3.035544</td>\n",
       "    </tr>\n",
       "    <tr>\n",
       "      <th>12</th>\n",
       "      <td>United States</td>\n",
       "      <td>35.959097</td>\n",
       "      <td>-116.036196</td>\n",
       "      <td>101.614949</td>\n",
       "      <td>202.665159</td>\n",
       "      <td>28.797309</td>\n",
       "      <td>2.740347</td>\n",
       "    </tr>\n",
       "    <tr>\n",
       "      <th>13</th>\n",
       "      <td>no data</td>\n",
       "      <td>4.845236</td>\n",
       "      <td>36.559486</td>\n",
       "      <td>72.666667</td>\n",
       "      <td>3357.888889</td>\n",
       "      <td>33.720052</td>\n",
       "      <td>2.873204</td>\n",
       "    </tr>\n",
       "  </tbody>\n",
       "</table>\n",
       "</div>"
      ],
      "text/plain": [
       "          Country   Latitude   Longitude      Height  number of measurements  \\\n",
       "0          Canada  43.391357  -79.824375    2.000000                1.000000   \n",
       "1           China  22.285994  114.146685  148.911950              195.037736   \n",
       "2         Finland  60.202004   24.921344   44.000000                1.000000   \n",
       "3         Germany  50.219822    9.447700  101.000000             4678.750000   \n",
       "4           Italy  45.769642   13.616818    9.000000               64.000000   \n",
       "5           Japan  36.244732  139.797929  119.386678             2788.284805   \n",
       "6     Netherlands  52.276022    4.907893    7.743802              577.057851   \n",
       "7     New Zealand -36.852149  174.763057  151.344130                1.072874   \n",
       "8        Slovenia  46.555011   15.636386  256.722222              472.203704   \n",
       "9         Somalia   1.809340   41.235100   66.000000           255757.000000   \n",
       "10    South Korea  37.322096  127.048194  120.988938              425.205752   \n",
       "11          Spain  41.423950    2.188897   98.000000                2.000000   \n",
       "12  United States  35.959097 -116.036196  101.614949              202.665159   \n",
       "13        no data   4.845236   36.559486   72.666667             3357.888889   \n",
       "\n",
       "    Value_mean      size  \n",
       "0   124.500000  4.251584  \n",
       "1    71.667032  3.602432  \n",
       "2    54.000000  3.309163  \n",
       "3    19.375298  2.433182  \n",
       "4    25.099206  2.629650  \n",
       "5   271.284309  5.370657  \n",
       "6    25.806710  2.651672  \n",
       "7    32.620670  2.844775  \n",
       "8    28.102194  2.720333  \n",
       "9   107.520490  4.068622  \n",
       "10   32.778938  2.848908  \n",
       "11   40.500000  3.035544  \n",
       "12   28.797309  2.740347  \n",
       "13   33.720052  2.873204  "
      ]
     },
     "execution_count": 96,
     "metadata": {},
     "output_type": "execute_result"
    }
   ],
   "source": [
    "formated_cdf_group = cdf.groupby(['Country'])\n",
    "formated_cdf = formated_cdf_group.mean()\n",
    "formated_cdf = formated_cdf.reset_index()\n",
    "formated_cdf['size'] = formated_cdf[\"Value_mean\"].pow(0.3)\n",
    "formated_cdf"
   ]
  },
  {
   "cell_type": "code",
   "execution_count": 97,
   "id": "cede69b0",
   "metadata": {},
   "outputs": [
    {
     "data": {
      "application/vnd.plotly.v1+json": {
       "config": {
        "plotlyServerURL": "https://plot.ly"
       },
       "data": [
        {
         "customdata": [
          [
           124.5
          ],
          [
           71.66703198524367
          ],
          [
           54
          ],
          [
           19.375298478206638
          ],
          [
           25.099206349206348
          ],
          [
           271.28430917521086
          ],
          [
           25.806709697377507
          ],
          [
           32.62067026540711
          ],
          [
           28.102194114198273
          ],
          [
           107.52049015276219
          ],
          [
           32.77893805329367
          ],
          [
           40.5
          ],
          [
           28.797309115652705
          ],
          [
           33.72005171802988
          ]
         ],
         "geo": "geo",
         "hovertemplate": "<b>%{hovertext}</b><br><br>size=%{marker.size}<br>Latitude=%{lat}<br>Longitude=%{lon}<br>Value_mean=%{marker.color}<extra></extra>",
         "hovertext": [
          "Canada",
          "China",
          "Finland",
          "Germany",
          "Italy",
          "Japan",
          "Netherlands",
          "New Zealand",
          "Slovenia",
          "Somalia",
          "South Korea",
          "Spain",
          "United States",
          "no data"
         ],
         "lat": [
          43.39135747432335,
          22.285993534591196,
          60.2020037715231,
          50.21982230487443,
          45.769641500000006,
          36.244731799845205,
          52.27602209917355,
          -36.85214856842105,
          46.55501120370371,
          1.80934,
          37.322095805309736,
          41.42395,
          35.9590972580091,
          4.845235666666667
         ],
         "legendgroup": "",
         "locationmode": "country names",
         "lon": [
          -79.82437541908375,
          114.14668458490566,
          24.9213437877441,
          9.447699764962232,
          13.616818,
          139.79792890121414,
          4.9078929256198345,
          174.7630570574899,
          15.636385685185186,
          41.2351,
          127.04819358407079,
          2.188897,
          -116.036195990948,
          36.559486
         ],
         "marker": {
          "color": [
           124.5,
           71.66703198524367,
           54,
           19.375298478206638,
           25.099206349206348,
           271.28430917521086,
           25.806709697377507,
           32.62067026540711,
           28.102194114198273,
           107.52049015276219,
           32.77893805329367,
           40.5,
           28.797309115652705,
           33.72005171802988
          ],
          "coloraxis": "coloraxis",
          "size": [
           4.251584405560041,
           3.6024322815006786,
           3.3091627572662095,
           2.4331815823755836,
           2.6296502901541072,
           5.370656824286101,
           2.6516719277116794,
           2.8447746161388516,
           2.7203329929521263,
           4.068622258180824,
           2.848908256464044,
           3.0355438227534264,
           2.740347082403469,
           2.873204047899337
          ],
          "sizemode": "area",
          "sizeref": 0.013426642060715253,
          "symbol": "circle"
         },
         "mode": "markers",
         "name": "",
         "showlegend": false,
         "type": "scattergeo"
        }
       ],
       "layout": {
        "coloraxis": {
         "cmax": 273.28430917521086,
         "cmin": 0,
         "colorbar": {
          "title": {
           "text": "Value_mean"
          }
         },
         "colorscale": [
          [
           0,
           "#0d0887"
          ],
          [
           0.1111111111111111,
           "#46039f"
          ],
          [
           0.2222222222222222,
           "#7201a8"
          ],
          [
           0.3333333333333333,
           "#9c179e"
          ],
          [
           0.4444444444444444,
           "#bd3786"
          ],
          [
           0.5555555555555556,
           "#d8576b"
          ],
          [
           0.6666666666666666,
           "#ed7953"
          ],
          [
           0.7777777777777778,
           "#fb9f3a"
          ],
          [
           0.8888888888888888,
           "#fdca26"
          ],
          [
           1,
           "#f0f921"
          ]
         ]
        },
        "geo": {
         "center": {},
         "domain": {
          "x": [
           0,
           1
          ],
          "y": [
           0,
           1
          ]
         },
         "projection": {
          "type": "natural earth"
         }
        },
        "legend": {
         "itemsizing": "constant",
         "tracegroupgap": 0
        },
        "margin": {
         "t": 60
        },
        "template": {
         "data": {
          "bar": [
           {
            "error_x": {
             "color": "#2a3f5f"
            },
            "error_y": {
             "color": "#2a3f5f"
            },
            "marker": {
             "line": {
              "color": "#E5ECF6",
              "width": 0.5
             },
             "pattern": {
              "fillmode": "overlay",
              "size": 10,
              "solidity": 0.2
             }
            },
            "type": "bar"
           }
          ],
          "barpolar": [
           {
            "marker": {
             "line": {
              "color": "#E5ECF6",
              "width": 0.5
             },
             "pattern": {
              "fillmode": "overlay",
              "size": 10,
              "solidity": 0.2
             }
            },
            "type": "barpolar"
           }
          ],
          "carpet": [
           {
            "aaxis": {
             "endlinecolor": "#2a3f5f",
             "gridcolor": "white",
             "linecolor": "white",
             "minorgridcolor": "white",
             "startlinecolor": "#2a3f5f"
            },
            "baxis": {
             "endlinecolor": "#2a3f5f",
             "gridcolor": "white",
             "linecolor": "white",
             "minorgridcolor": "white",
             "startlinecolor": "#2a3f5f"
            },
            "type": "carpet"
           }
          ],
          "choropleth": [
           {
            "colorbar": {
             "outlinewidth": 0,
             "ticks": ""
            },
            "type": "choropleth"
           }
          ],
          "contour": [
           {
            "colorbar": {
             "outlinewidth": 0,
             "ticks": ""
            },
            "colorscale": [
             [
              0,
              "#0d0887"
             ],
             [
              0.1111111111111111,
              "#46039f"
             ],
             [
              0.2222222222222222,
              "#7201a8"
             ],
             [
              0.3333333333333333,
              "#9c179e"
             ],
             [
              0.4444444444444444,
              "#bd3786"
             ],
             [
              0.5555555555555556,
              "#d8576b"
             ],
             [
              0.6666666666666666,
              "#ed7953"
             ],
             [
              0.7777777777777778,
              "#fb9f3a"
             ],
             [
              0.8888888888888888,
              "#fdca26"
             ],
             [
              1,
              "#f0f921"
             ]
            ],
            "type": "contour"
           }
          ],
          "contourcarpet": [
           {
            "colorbar": {
             "outlinewidth": 0,
             "ticks": ""
            },
            "type": "contourcarpet"
           }
          ],
          "heatmap": [
           {
            "colorbar": {
             "outlinewidth": 0,
             "ticks": ""
            },
            "colorscale": [
             [
              0,
              "#0d0887"
             ],
             [
              0.1111111111111111,
              "#46039f"
             ],
             [
              0.2222222222222222,
              "#7201a8"
             ],
             [
              0.3333333333333333,
              "#9c179e"
             ],
             [
              0.4444444444444444,
              "#bd3786"
             ],
             [
              0.5555555555555556,
              "#d8576b"
             ],
             [
              0.6666666666666666,
              "#ed7953"
             ],
             [
              0.7777777777777778,
              "#fb9f3a"
             ],
             [
              0.8888888888888888,
              "#fdca26"
             ],
             [
              1,
              "#f0f921"
             ]
            ],
            "type": "heatmap"
           }
          ],
          "heatmapgl": [
           {
            "colorbar": {
             "outlinewidth": 0,
             "ticks": ""
            },
            "colorscale": [
             [
              0,
              "#0d0887"
             ],
             [
              0.1111111111111111,
              "#46039f"
             ],
             [
              0.2222222222222222,
              "#7201a8"
             ],
             [
              0.3333333333333333,
              "#9c179e"
             ],
             [
              0.4444444444444444,
              "#bd3786"
             ],
             [
              0.5555555555555556,
              "#d8576b"
             ],
             [
              0.6666666666666666,
              "#ed7953"
             ],
             [
              0.7777777777777778,
              "#fb9f3a"
             ],
             [
              0.8888888888888888,
              "#fdca26"
             ],
             [
              1,
              "#f0f921"
             ]
            ],
            "type": "heatmapgl"
           }
          ],
          "histogram": [
           {
            "marker": {
             "pattern": {
              "fillmode": "overlay",
              "size": 10,
              "solidity": 0.2
             }
            },
            "type": "histogram"
           }
          ],
          "histogram2d": [
           {
            "colorbar": {
             "outlinewidth": 0,
             "ticks": ""
            },
            "colorscale": [
             [
              0,
              "#0d0887"
             ],
             [
              0.1111111111111111,
              "#46039f"
             ],
             [
              0.2222222222222222,
              "#7201a8"
             ],
             [
              0.3333333333333333,
              "#9c179e"
             ],
             [
              0.4444444444444444,
              "#bd3786"
             ],
             [
              0.5555555555555556,
              "#d8576b"
             ],
             [
              0.6666666666666666,
              "#ed7953"
             ],
             [
              0.7777777777777778,
              "#fb9f3a"
             ],
             [
              0.8888888888888888,
              "#fdca26"
             ],
             [
              1,
              "#f0f921"
             ]
            ],
            "type": "histogram2d"
           }
          ],
          "histogram2dcontour": [
           {
            "colorbar": {
             "outlinewidth": 0,
             "ticks": ""
            },
            "colorscale": [
             [
              0,
              "#0d0887"
             ],
             [
              0.1111111111111111,
              "#46039f"
             ],
             [
              0.2222222222222222,
              "#7201a8"
             ],
             [
              0.3333333333333333,
              "#9c179e"
             ],
             [
              0.4444444444444444,
              "#bd3786"
             ],
             [
              0.5555555555555556,
              "#d8576b"
             ],
             [
              0.6666666666666666,
              "#ed7953"
             ],
             [
              0.7777777777777778,
              "#fb9f3a"
             ],
             [
              0.8888888888888888,
              "#fdca26"
             ],
             [
              1,
              "#f0f921"
             ]
            ],
            "type": "histogram2dcontour"
           }
          ],
          "mesh3d": [
           {
            "colorbar": {
             "outlinewidth": 0,
             "ticks": ""
            },
            "type": "mesh3d"
           }
          ],
          "parcoords": [
           {
            "line": {
             "colorbar": {
              "outlinewidth": 0,
              "ticks": ""
             }
            },
            "type": "parcoords"
           }
          ],
          "pie": [
           {
            "automargin": true,
            "type": "pie"
           }
          ],
          "scatter": [
           {
            "marker": {
             "colorbar": {
              "outlinewidth": 0,
              "ticks": ""
             }
            },
            "type": "scatter"
           }
          ],
          "scatter3d": [
           {
            "line": {
             "colorbar": {
              "outlinewidth": 0,
              "ticks": ""
             }
            },
            "marker": {
             "colorbar": {
              "outlinewidth": 0,
              "ticks": ""
             }
            },
            "type": "scatter3d"
           }
          ],
          "scattercarpet": [
           {
            "marker": {
             "colorbar": {
              "outlinewidth": 0,
              "ticks": ""
             }
            },
            "type": "scattercarpet"
           }
          ],
          "scattergeo": [
           {
            "marker": {
             "colorbar": {
              "outlinewidth": 0,
              "ticks": ""
             }
            },
            "type": "scattergeo"
           }
          ],
          "scattergl": [
           {
            "marker": {
             "colorbar": {
              "outlinewidth": 0,
              "ticks": ""
             }
            },
            "type": "scattergl"
           }
          ],
          "scattermapbox": [
           {
            "marker": {
             "colorbar": {
              "outlinewidth": 0,
              "ticks": ""
             }
            },
            "type": "scattermapbox"
           }
          ],
          "scatterpolar": [
           {
            "marker": {
             "colorbar": {
              "outlinewidth": 0,
              "ticks": ""
             }
            },
            "type": "scatterpolar"
           }
          ],
          "scatterpolargl": [
           {
            "marker": {
             "colorbar": {
              "outlinewidth": 0,
              "ticks": ""
             }
            },
            "type": "scatterpolargl"
           }
          ],
          "scatterternary": [
           {
            "marker": {
             "colorbar": {
              "outlinewidth": 0,
              "ticks": ""
             }
            },
            "type": "scatterternary"
           }
          ],
          "surface": [
           {
            "colorbar": {
             "outlinewidth": 0,
             "ticks": ""
            },
            "colorscale": [
             [
              0,
              "#0d0887"
             ],
             [
              0.1111111111111111,
              "#46039f"
             ],
             [
              0.2222222222222222,
              "#7201a8"
             ],
             [
              0.3333333333333333,
              "#9c179e"
             ],
             [
              0.4444444444444444,
              "#bd3786"
             ],
             [
              0.5555555555555556,
              "#d8576b"
             ],
             [
              0.6666666666666666,
              "#ed7953"
             ],
             [
              0.7777777777777778,
              "#fb9f3a"
             ],
             [
              0.8888888888888888,
              "#fdca26"
             ],
             [
              1,
              "#f0f921"
             ]
            ],
            "type": "surface"
           }
          ],
          "table": [
           {
            "cells": {
             "fill": {
              "color": "#EBF0F8"
             },
             "line": {
              "color": "white"
             }
            },
            "header": {
             "fill": {
              "color": "#C8D4E3"
             },
             "line": {
              "color": "white"
             }
            },
            "type": "table"
           }
          ]
         },
         "layout": {
          "annotationdefaults": {
           "arrowcolor": "#2a3f5f",
           "arrowhead": 0,
           "arrowwidth": 1
          },
          "autotypenumbers": "strict",
          "coloraxis": {
           "colorbar": {
            "outlinewidth": 0,
            "ticks": ""
           }
          },
          "colorscale": {
           "diverging": [
            [
             0,
             "#8e0152"
            ],
            [
             0.1,
             "#c51b7d"
            ],
            [
             0.2,
             "#de77ae"
            ],
            [
             0.3,
             "#f1b6da"
            ],
            [
             0.4,
             "#fde0ef"
            ],
            [
             0.5,
             "#f7f7f7"
            ],
            [
             0.6,
             "#e6f5d0"
            ],
            [
             0.7,
             "#b8e186"
            ],
            [
             0.8,
             "#7fbc41"
            ],
            [
             0.9,
             "#4d9221"
            ],
            [
             1,
             "#276419"
            ]
           ],
           "sequential": [
            [
             0,
             "#0d0887"
            ],
            [
             0.1111111111111111,
             "#46039f"
            ],
            [
             0.2222222222222222,
             "#7201a8"
            ],
            [
             0.3333333333333333,
             "#9c179e"
            ],
            [
             0.4444444444444444,
             "#bd3786"
            ],
            [
             0.5555555555555556,
             "#d8576b"
            ],
            [
             0.6666666666666666,
             "#ed7953"
            ],
            [
             0.7777777777777778,
             "#fb9f3a"
            ],
            [
             0.8888888888888888,
             "#fdca26"
            ],
            [
             1,
             "#f0f921"
            ]
           ],
           "sequentialminus": [
            [
             0,
             "#0d0887"
            ],
            [
             0.1111111111111111,
             "#46039f"
            ],
            [
             0.2222222222222222,
             "#7201a8"
            ],
            [
             0.3333333333333333,
             "#9c179e"
            ],
            [
             0.4444444444444444,
             "#bd3786"
            ],
            [
             0.5555555555555556,
             "#d8576b"
            ],
            [
             0.6666666666666666,
             "#ed7953"
            ],
            [
             0.7777777777777778,
             "#fb9f3a"
            ],
            [
             0.8888888888888888,
             "#fdca26"
            ],
            [
             1,
             "#f0f921"
            ]
           ]
          },
          "colorway": [
           "#636efa",
           "#EF553B",
           "#00cc96",
           "#ab63fa",
           "#FFA15A",
           "#19d3f3",
           "#FF6692",
           "#B6E880",
           "#FF97FF",
           "#FECB52"
          ],
          "font": {
           "color": "#2a3f5f"
          },
          "geo": {
           "bgcolor": "white",
           "lakecolor": "white",
           "landcolor": "#E5ECF6",
           "showlakes": true,
           "showland": true,
           "subunitcolor": "white"
          },
          "hoverlabel": {
           "align": "left"
          },
          "hovermode": "closest",
          "mapbox": {
           "style": "light"
          },
          "paper_bgcolor": "white",
          "plot_bgcolor": "#E5ECF6",
          "polar": {
           "angularaxis": {
            "gridcolor": "white",
            "linecolor": "white",
            "ticks": ""
           },
           "bgcolor": "#E5ECF6",
           "radialaxis": {
            "gridcolor": "white",
            "linecolor": "white",
            "ticks": ""
           }
          },
          "scene": {
           "xaxis": {
            "backgroundcolor": "#E5ECF6",
            "gridcolor": "white",
            "gridwidth": 2,
            "linecolor": "white",
            "showbackground": true,
            "ticks": "",
            "zerolinecolor": "white"
           },
           "yaxis": {
            "backgroundcolor": "#E5ECF6",
            "gridcolor": "white",
            "gridwidth": 2,
            "linecolor": "white",
            "showbackground": true,
            "ticks": "",
            "zerolinecolor": "white"
           },
           "zaxis": {
            "backgroundcolor": "#E5ECF6",
            "gridcolor": "white",
            "gridwidth": 2,
            "linecolor": "white",
            "showbackground": true,
            "ticks": "",
            "zerolinecolor": "white"
           }
          },
          "shapedefaults": {
           "line": {
            "color": "#2a3f5f"
           }
          },
          "ternary": {
           "aaxis": {
            "gridcolor": "white",
            "linecolor": "white",
            "ticks": ""
           },
           "baxis": {
            "gridcolor": "white",
            "linecolor": "white",
            "ticks": ""
           },
           "bgcolor": "#E5ECF6",
           "caxis": {
            "gridcolor": "white",
            "linecolor": "white",
            "ticks": ""
           }
          },
          "title": {
           "x": 0.05
          },
          "xaxis": {
           "automargin": true,
           "gridcolor": "white",
           "linecolor": "white",
           "ticks": "",
           "title": {
            "standoff": 15
           },
           "zerolinecolor": "white",
           "zerolinewidth": 2
          },
          "yaxis": {
           "automargin": true,
           "gridcolor": "white",
           "linecolor": "white",
           "ticks": "",
           "title": {
            "standoff": 15
           },
           "zerolinecolor": "white",
           "zerolinewidth": 2
          }
         }
        }
       }
      },
      "text/html": [
       "<div>                            <div id=\"f5955b2c-8b02-4504-9371-920fc43d8c6c\" class=\"plotly-graph-div\" style=\"height:525px; width:100%;\"></div>            <script type=\"text/javascript\">                require([\"plotly\"], function(Plotly) {                    window.PLOTLYENV=window.PLOTLYENV || {};                                    if (document.getElementById(\"f5955b2c-8b02-4504-9371-920fc43d8c6c\")) {                    Plotly.newPlot(                        \"f5955b2c-8b02-4504-9371-920fc43d8c6c\",                        [{\"customdata\":[[124.5],[71.66703198524367],[54.0],[19.375298478206638],[25.099206349206348],[271.28430917521086],[25.806709697377507],[32.62067026540711],[28.102194114198273],[107.52049015276219],[32.77893805329367],[40.5],[28.797309115652705],[33.72005171802988]],\"geo\":\"geo\",\"hovertemplate\":\"<b>%{hovertext}</b><br><br>size=%{marker.size}<br>Latitude=%{lat}<br>Longitude=%{lon}<br>Value_mean=%{marker.color}<extra></extra>\",\"hovertext\":[\"Canada\",\"China\",\"Finland\",\"Germany\",\"Italy\",\"Japan\",\"Netherlands\",\"New Zealand\",\"Slovenia\",\"Somalia\",\"South Korea\",\"Spain\",\"United States\",\"no data\"],\"lat\":[43.39135747432335,22.285993534591196,60.2020037715231,50.21982230487443,45.769641500000006,36.244731799845205,52.27602209917355,-36.85214856842105,46.55501120370371,1.80934,37.322095805309736,41.42395,35.9590972580091,4.845235666666667],\"legendgroup\":\"\",\"locationmode\":\"country names\",\"lon\":[-79.82437541908375,114.14668458490566,24.9213437877441,9.447699764962232,13.616818,139.79792890121414,4.9078929256198345,174.7630570574899,15.636385685185186,41.2351,127.04819358407079,2.188897,-116.036195990948,36.559486],\"marker\":{\"color\":[124.5,71.66703198524367,54.0,19.375298478206638,25.099206349206348,271.28430917521086,25.806709697377507,32.62067026540711,28.102194114198273,107.52049015276219,32.77893805329367,40.5,28.797309115652705,33.72005171802988],\"coloraxis\":\"coloraxis\",\"size\":[4.251584405560041,3.6024322815006786,3.3091627572662095,2.4331815823755836,2.6296502901541072,5.370656824286101,2.6516719277116794,2.8447746161388516,2.7203329929521263,4.068622258180824,2.848908256464044,3.0355438227534264,2.740347082403469,2.873204047899337],\"sizemode\":\"area\",\"sizeref\":0.013426642060715253,\"symbol\":\"circle\"},\"mode\":\"markers\",\"name\":\"\",\"showlegend\":false,\"type\":\"scattergeo\"}],                        {\"template\":{\"data\":{\"bar\":[{\"error_x\":{\"color\":\"#2a3f5f\"},\"error_y\":{\"color\":\"#2a3f5f\"},\"marker\":{\"line\":{\"color\":\"#E5ECF6\",\"width\":0.5},\"pattern\":{\"fillmode\":\"overlay\",\"size\":10,\"solidity\":0.2}},\"type\":\"bar\"}],\"barpolar\":[{\"marker\":{\"line\":{\"color\":\"#E5ECF6\",\"width\":0.5},\"pattern\":{\"fillmode\":\"overlay\",\"size\":10,\"solidity\":0.2}},\"type\":\"barpolar\"}],\"carpet\":[{\"aaxis\":{\"endlinecolor\":\"#2a3f5f\",\"gridcolor\":\"white\",\"linecolor\":\"white\",\"minorgridcolor\":\"white\",\"startlinecolor\":\"#2a3f5f\"},\"baxis\":{\"endlinecolor\":\"#2a3f5f\",\"gridcolor\":\"white\",\"linecolor\":\"white\",\"minorgridcolor\":\"white\",\"startlinecolor\":\"#2a3f5f\"},\"type\":\"carpet\"}],\"choropleth\":[{\"colorbar\":{\"outlinewidth\":0,\"ticks\":\"\"},\"type\":\"choropleth\"}],\"contour\":[{\"colorbar\":{\"outlinewidth\":0,\"ticks\":\"\"},\"colorscale\":[[0.0,\"#0d0887\"],[0.1111111111111111,\"#46039f\"],[0.2222222222222222,\"#7201a8\"],[0.3333333333333333,\"#9c179e\"],[0.4444444444444444,\"#bd3786\"],[0.5555555555555556,\"#d8576b\"],[0.6666666666666666,\"#ed7953\"],[0.7777777777777778,\"#fb9f3a\"],[0.8888888888888888,\"#fdca26\"],[1.0,\"#f0f921\"]],\"type\":\"contour\"}],\"contourcarpet\":[{\"colorbar\":{\"outlinewidth\":0,\"ticks\":\"\"},\"type\":\"contourcarpet\"}],\"heatmap\":[{\"colorbar\":{\"outlinewidth\":0,\"ticks\":\"\"},\"colorscale\":[[0.0,\"#0d0887\"],[0.1111111111111111,\"#46039f\"],[0.2222222222222222,\"#7201a8\"],[0.3333333333333333,\"#9c179e\"],[0.4444444444444444,\"#bd3786\"],[0.5555555555555556,\"#d8576b\"],[0.6666666666666666,\"#ed7953\"],[0.7777777777777778,\"#fb9f3a\"],[0.8888888888888888,\"#fdca26\"],[1.0,\"#f0f921\"]],\"type\":\"heatmap\"}],\"heatmapgl\":[{\"colorbar\":{\"outlinewidth\":0,\"ticks\":\"\"},\"colorscale\":[[0.0,\"#0d0887\"],[0.1111111111111111,\"#46039f\"],[0.2222222222222222,\"#7201a8\"],[0.3333333333333333,\"#9c179e\"],[0.4444444444444444,\"#bd3786\"],[0.5555555555555556,\"#d8576b\"],[0.6666666666666666,\"#ed7953\"],[0.7777777777777778,\"#fb9f3a\"],[0.8888888888888888,\"#fdca26\"],[1.0,\"#f0f921\"]],\"type\":\"heatmapgl\"}],\"histogram\":[{\"marker\":{\"pattern\":{\"fillmode\":\"overlay\",\"size\":10,\"solidity\":0.2}},\"type\":\"histogram\"}],\"histogram2d\":[{\"colorbar\":{\"outlinewidth\":0,\"ticks\":\"\"},\"colorscale\":[[0.0,\"#0d0887\"],[0.1111111111111111,\"#46039f\"],[0.2222222222222222,\"#7201a8\"],[0.3333333333333333,\"#9c179e\"],[0.4444444444444444,\"#bd3786\"],[0.5555555555555556,\"#d8576b\"],[0.6666666666666666,\"#ed7953\"],[0.7777777777777778,\"#fb9f3a\"],[0.8888888888888888,\"#fdca26\"],[1.0,\"#f0f921\"]],\"type\":\"histogram2d\"}],\"histogram2dcontour\":[{\"colorbar\":{\"outlinewidth\":0,\"ticks\":\"\"},\"colorscale\":[[0.0,\"#0d0887\"],[0.1111111111111111,\"#46039f\"],[0.2222222222222222,\"#7201a8\"],[0.3333333333333333,\"#9c179e\"],[0.4444444444444444,\"#bd3786\"],[0.5555555555555556,\"#d8576b\"],[0.6666666666666666,\"#ed7953\"],[0.7777777777777778,\"#fb9f3a\"],[0.8888888888888888,\"#fdca26\"],[1.0,\"#f0f921\"]],\"type\":\"histogram2dcontour\"}],\"mesh3d\":[{\"colorbar\":{\"outlinewidth\":0,\"ticks\":\"\"},\"type\":\"mesh3d\"}],\"parcoords\":[{\"line\":{\"colorbar\":{\"outlinewidth\":0,\"ticks\":\"\"}},\"type\":\"parcoords\"}],\"pie\":[{\"automargin\":true,\"type\":\"pie\"}],\"scatter\":[{\"marker\":{\"colorbar\":{\"outlinewidth\":0,\"ticks\":\"\"}},\"type\":\"scatter\"}],\"scatter3d\":[{\"line\":{\"colorbar\":{\"outlinewidth\":0,\"ticks\":\"\"}},\"marker\":{\"colorbar\":{\"outlinewidth\":0,\"ticks\":\"\"}},\"type\":\"scatter3d\"}],\"scattercarpet\":[{\"marker\":{\"colorbar\":{\"outlinewidth\":0,\"ticks\":\"\"}},\"type\":\"scattercarpet\"}],\"scattergeo\":[{\"marker\":{\"colorbar\":{\"outlinewidth\":0,\"ticks\":\"\"}},\"type\":\"scattergeo\"}],\"scattergl\":[{\"marker\":{\"colorbar\":{\"outlinewidth\":0,\"ticks\":\"\"}},\"type\":\"scattergl\"}],\"scattermapbox\":[{\"marker\":{\"colorbar\":{\"outlinewidth\":0,\"ticks\":\"\"}},\"type\":\"scattermapbox\"}],\"scatterpolar\":[{\"marker\":{\"colorbar\":{\"outlinewidth\":0,\"ticks\":\"\"}},\"type\":\"scatterpolar\"}],\"scatterpolargl\":[{\"marker\":{\"colorbar\":{\"outlinewidth\":0,\"ticks\":\"\"}},\"type\":\"scatterpolargl\"}],\"scatterternary\":[{\"marker\":{\"colorbar\":{\"outlinewidth\":0,\"ticks\":\"\"}},\"type\":\"scatterternary\"}],\"surface\":[{\"colorbar\":{\"outlinewidth\":0,\"ticks\":\"\"},\"colorscale\":[[0.0,\"#0d0887\"],[0.1111111111111111,\"#46039f\"],[0.2222222222222222,\"#7201a8\"],[0.3333333333333333,\"#9c179e\"],[0.4444444444444444,\"#bd3786\"],[0.5555555555555556,\"#d8576b\"],[0.6666666666666666,\"#ed7953\"],[0.7777777777777778,\"#fb9f3a\"],[0.8888888888888888,\"#fdca26\"],[1.0,\"#f0f921\"]],\"type\":\"surface\"}],\"table\":[{\"cells\":{\"fill\":{\"color\":\"#EBF0F8\"},\"line\":{\"color\":\"white\"}},\"header\":{\"fill\":{\"color\":\"#C8D4E3\"},\"line\":{\"color\":\"white\"}},\"type\":\"table\"}]},\"layout\":{\"annotationdefaults\":{\"arrowcolor\":\"#2a3f5f\",\"arrowhead\":0,\"arrowwidth\":1},\"autotypenumbers\":\"strict\",\"coloraxis\":{\"colorbar\":{\"outlinewidth\":0,\"ticks\":\"\"}},\"colorscale\":{\"diverging\":[[0,\"#8e0152\"],[0.1,\"#c51b7d\"],[0.2,\"#de77ae\"],[0.3,\"#f1b6da\"],[0.4,\"#fde0ef\"],[0.5,\"#f7f7f7\"],[0.6,\"#e6f5d0\"],[0.7,\"#b8e186\"],[0.8,\"#7fbc41\"],[0.9,\"#4d9221\"],[1,\"#276419\"]],\"sequential\":[[0.0,\"#0d0887\"],[0.1111111111111111,\"#46039f\"],[0.2222222222222222,\"#7201a8\"],[0.3333333333333333,\"#9c179e\"],[0.4444444444444444,\"#bd3786\"],[0.5555555555555556,\"#d8576b\"],[0.6666666666666666,\"#ed7953\"],[0.7777777777777778,\"#fb9f3a\"],[0.8888888888888888,\"#fdca26\"],[1.0,\"#f0f921\"]],\"sequentialminus\":[[0.0,\"#0d0887\"],[0.1111111111111111,\"#46039f\"],[0.2222222222222222,\"#7201a8\"],[0.3333333333333333,\"#9c179e\"],[0.4444444444444444,\"#bd3786\"],[0.5555555555555556,\"#d8576b\"],[0.6666666666666666,\"#ed7953\"],[0.7777777777777778,\"#fb9f3a\"],[0.8888888888888888,\"#fdca26\"],[1.0,\"#f0f921\"]]},\"colorway\":[\"#636efa\",\"#EF553B\",\"#00cc96\",\"#ab63fa\",\"#FFA15A\",\"#19d3f3\",\"#FF6692\",\"#B6E880\",\"#FF97FF\",\"#FECB52\"],\"font\":{\"color\":\"#2a3f5f\"},\"geo\":{\"bgcolor\":\"white\",\"lakecolor\":\"white\",\"landcolor\":\"#E5ECF6\",\"showlakes\":true,\"showland\":true,\"subunitcolor\":\"white\"},\"hoverlabel\":{\"align\":\"left\"},\"hovermode\":\"closest\",\"mapbox\":{\"style\":\"light\"},\"paper_bgcolor\":\"white\",\"plot_bgcolor\":\"#E5ECF6\",\"polar\":{\"angularaxis\":{\"gridcolor\":\"white\",\"linecolor\":\"white\",\"ticks\":\"\"},\"bgcolor\":\"#E5ECF6\",\"radialaxis\":{\"gridcolor\":\"white\",\"linecolor\":\"white\",\"ticks\":\"\"}},\"scene\":{\"xaxis\":{\"backgroundcolor\":\"#E5ECF6\",\"gridcolor\":\"white\",\"gridwidth\":2,\"linecolor\":\"white\",\"showbackground\":true,\"ticks\":\"\",\"zerolinecolor\":\"white\"},\"yaxis\":{\"backgroundcolor\":\"#E5ECF6\",\"gridcolor\":\"white\",\"gridwidth\":2,\"linecolor\":\"white\",\"showbackground\":true,\"ticks\":\"\",\"zerolinecolor\":\"white\"},\"zaxis\":{\"backgroundcolor\":\"#E5ECF6\",\"gridcolor\":\"white\",\"gridwidth\":2,\"linecolor\":\"white\",\"showbackground\":true,\"ticks\":\"\",\"zerolinecolor\":\"white\"}},\"shapedefaults\":{\"line\":{\"color\":\"#2a3f5f\"}},\"ternary\":{\"aaxis\":{\"gridcolor\":\"white\",\"linecolor\":\"white\",\"ticks\":\"\"},\"baxis\":{\"gridcolor\":\"white\",\"linecolor\":\"white\",\"ticks\":\"\"},\"bgcolor\":\"#E5ECF6\",\"caxis\":{\"gridcolor\":\"white\",\"linecolor\":\"white\",\"ticks\":\"\"}},\"title\":{\"x\":0.05},\"xaxis\":{\"automargin\":true,\"gridcolor\":\"white\",\"linecolor\":\"white\",\"ticks\":\"\",\"title\":{\"standoff\":15},\"zerolinecolor\":\"white\",\"zerolinewidth\":2},\"yaxis\":{\"automargin\":true,\"gridcolor\":\"white\",\"linecolor\":\"white\",\"ticks\":\"\",\"title\":{\"standoff\":15},\"zerolinecolor\":\"white\",\"zerolinewidth\":2}}},\"geo\":{\"domain\":{\"x\":[0.0,1.0],\"y\":[0.0,1.0]},\"projection\":{\"type\":\"natural earth\"},\"center\":{}},\"coloraxis\":{\"colorbar\":{\"title\":{\"text\":\"Value_mean\"}},\"colorscale\":[[0.0,\"#0d0887\"],[0.1111111111111111,\"#46039f\"],[0.2222222222222222,\"#7201a8\"],[0.3333333333333333,\"#9c179e\"],[0.4444444444444444,\"#bd3786\"],[0.5555555555555556,\"#d8576b\"],[0.6666666666666666,\"#ed7953\"],[0.7777777777777778,\"#fb9f3a\"],[0.8888888888888888,\"#fdca26\"],[1.0,\"#f0f921\"]],\"cmin\":0,\"cmax\":273.28430917521086},\"legend\":{\"tracegroupgap\":0,\"itemsizing\":\"constant\"},\"margin\":{\"t\":60}},                        {\"responsive\": true}                    ).then(function(){\n",
       "                            \n",
       "var gd = document.getElementById('f5955b2c-8b02-4504-9371-920fc43d8c6c');\n",
       "var x = new MutationObserver(function (mutations, observer) {{\n",
       "        var display = window.getComputedStyle(gd).display;\n",
       "        if (!display || display === 'none') {{\n",
       "            console.log([gd, 'removed!']);\n",
       "            Plotly.purge(gd);\n",
       "            observer.disconnect();\n",
       "        }}\n",
       "}});\n",
       "\n",
       "// Listen for the removal of the full notebook cells\n",
       "var notebookContainer = gd.closest('#notebook-container');\n",
       "if (notebookContainer) {{\n",
       "    x.observe(notebookContainer, {childList: true});\n",
       "}}\n",
       "\n",
       "// Listen for the clearing of the current output cell\n",
       "var outputEl = gd.closest('.output');\n",
       "if (outputEl) {{\n",
       "    x.observe(outputEl, {childList: true});\n",
       "}}\n",
       "\n",
       "                        })                };                });            </script>        </div>"
      ]
     },
     "metadata": {},
     "output_type": "display_data"
    }
   ],
   "source": [
    "fig = px.scatter_geo(formated_cdf,\n",
    "                    lat = formated_cdf['Latitude'],\n",
    "                    lon = formated_cdf['Longitude'],\n",
    "                    locationmode='country names',\n",
    "                    color=\"Value_mean\",\n",
    "                    range_color= [0, max(formated_cdf['Value_mean'])+2],\n",
    "                    hover_name=\"Country\",\n",
    "                    hover_data=[\"Value_mean\"],\n",
    "                    size=\"size\",\n",
    "                    projection=\"natural earth\")\n",
    "fig.show()"
   ]
  },
  {
   "cell_type": "code",
   "execution_count": null,
   "id": "32eb6294",
   "metadata": {},
   "outputs": [],
   "source": [
    "formated_cdf_group = cdf.groupby(['Country'])\n",
    "formated_cdf = formated_cdf_group.mean()\n",
    "formated_cdf = formated_cdf.reset_index()\n",
    "formated_cdf['size'] = formated_cdf[\"Value_mean\"].pow(0.3)\n",
    "formated_cdf"
   ]
  }
 ],
 "metadata": {
  "kernelspec": {
   "display_name": "Python 3 (ipykernel)",
   "language": "python",
   "name": "python3"
  },
  "language_info": {
   "codemirror_mode": {
    "name": "ipython",
    "version": 3
   },
   "file_extension": ".py",
   "mimetype": "text/x-python",
   "name": "python",
   "nbconvert_exporter": "python",
   "pygments_lexer": "ipython3",
   "version": "3.8.12"
  }
 },
 "nbformat": 4,
 "nbformat_minor": 5
}
